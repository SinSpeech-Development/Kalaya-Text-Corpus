{
 "cells": [
  {
   "cell_type": "code",
   "execution_count": 1,
   "id": "f7c8d4bf",
   "metadata": {},
   "outputs": [],
   "source": [
    "import os"
   ]
  },
  {
   "cell_type": "markdown",
   "id": "1fbbefb0",
   "metadata": {},
   "source": [
    "## Aggregating Article Content for Each Year"
   ]
  },
  {
   "cell_type": "markdown",
   "id": "56c95ac2",
   "metadata": {},
   "source": [
    "#### 2015 from 2020"
   ]
  },
  {
   "cell_type": "code",
   "execution_count": 2,
   "id": "993fc1ab",
   "metadata": {},
   "outputs": [],
   "source": [
    "def write_yearly_articles_to_single_file_2015_to_2020(year):\n",
    "    all_file = open(f\"Original_Scraped_Articles/{year}_articles/all_files_{year}.txt\", \"a+\", encoding=\"utf-8\")\n",
    "    \n",
    "    for i in range (0, 400):\n",
    "        file_name = f\"file{year}-{i}.txt\"\n",
    "        if os.path.isfile(f\"Original_Scraped_Articles/{year}_articles/{file_name}\"):\n",
    "            file = open(f\"Original_Scraped_Articles/{year}_articles/{file_name}\", \"r\", encoding=\"utf-8\")\n",
    "            file_content = file.read()\n",
    "            all_file.write(file_content + \"\\n\")\n",
    "        else:\n",
    "            print(\"end of folder\")\n",
    "            break\n",
    "    all_file.close()"
   ]
  },
  {
   "cell_type": "code",
   "execution_count": 3,
   "id": "35844484",
   "metadata": {},
   "outputs": [],
   "source": [
    "# write_yearly_articles_to_single_file_2015_to_2020(\"2020\")"
   ]
  },
  {
   "cell_type": "markdown",
   "id": "bc91ba40",
   "metadata": {},
   "source": [
    "#### 2021 Jan to Apr"
   ]
  },
  {
   "cell_type": "code",
   "execution_count": 4,
   "id": "8c078ef8",
   "metadata": {},
   "outputs": [],
   "source": [
    "def write_yearly_articles_to_single_file_2021_Jan_to_Apr():\n",
    "    all_file = open(f\"Original_Scraped_Articles/2021_Jan_to_Apr_articles/all_files_2021_Jan_to_Apr.txt\", \"a+\", encoding=\"utf-8\")\n",
    "    \n",
    "    for i in range (0, 400):\n",
    "        file_name = f\"file2021-{i}.txt\"\n",
    "        if os.path.isfile(f\"Original_Scraped_Articles/2021_Jan_to_Apr_articles/{file_name}\"):\n",
    "            file = open(f\"Original_Scraped_Articles/2021_Jan_to_Apr_articles/{file_name}\", \"r\", encoding=\"utf-8\")\n",
    "            file_content = file.read()\n",
    "            all_file.write(file_content + \"\\n\")\n",
    "        else:\n",
    "            print(\"end of folder\")\n",
    "            break\n",
    "    all_file.close()"
   ]
  },
  {
   "cell_type": "code",
   "execution_count": 5,
   "id": "37f3e6fa",
   "metadata": {},
   "outputs": [],
   "source": [
    "# write_yearly_articles_to_single_file_2021_Jan_to_Apr()"
   ]
  },
  {
   "cell_type": "markdown",
   "id": "48fbdf00",
   "metadata": {},
   "source": [
    "#### 2021 May to Nov"
   ]
  },
  {
   "cell_type": "code",
   "execution_count": 6,
   "id": "c358cacf",
   "metadata": {},
   "outputs": [],
   "source": [
    "def write_yearly_articles_to_single_file_2021_May_to_Nov():\n",
    "    all_file = open(f\"Original_Scraped_Articles/2021_May_to_Nov_articles/all_files_2021_May_to_Nov.txt\", \"a+\", encoding=\"utf-8\")\n",
    "    \n",
    "    for i in range (0, 400):\n",
    "        file_name = f\"file2021-{i}.txt\"\n",
    "        if os.path.isfile(f\"Original_Scraped_Articles/2021_May_to_Nov_articles/{file_name}\"):\n",
    "            file = open(f\"Original_Scraped_Articles/2021_May_to_Nov_articles/{file_name}\", \"r\", encoding=\"utf-8\")\n",
    "            file_content = file.read()\n",
    "            all_file.write(file_content + \"\\n\")\n",
    "        else:\n",
    "            print(\"end of folder\")\n",
    "            break\n",
    "    all_file.close()"
   ]
  },
  {
   "cell_type": "code",
   "execution_count": 7,
   "id": "d14d9ccd",
   "metadata": {},
   "outputs": [],
   "source": [
    "# write_yearly_articles_to_single_file_2021_May_to_Nov()"
   ]
  }
 ],
 "metadata": {
  "kernelspec": {
   "display_name": "Python 3 (ipykernel)",
   "language": "python",
   "name": "python3"
  },
  "language_info": {
   "codemirror_mode": {
    "name": "ipython",
    "version": 3
   },
   "file_extension": ".py",
   "mimetype": "text/x-python",
   "name": "python",
   "nbconvert_exporter": "python",
   "pygments_lexer": "ipython3",
   "version": "3.9.7"
  }
 },
 "nbformat": 4,
 "nbformat_minor": 5
}
