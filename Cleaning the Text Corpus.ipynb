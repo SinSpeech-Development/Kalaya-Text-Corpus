{
 "cells": [
  {
   "cell_type": "code",
   "execution_count": 1,
   "id": "1746c8b5",
   "metadata": {},
   "outputs": [],
   "source": [
    "import pandas as pd"
   ]
  },
  {
   "cell_type": "markdown",
   "id": "7d4996ae",
   "metadata": {},
   "source": [
    "- removing \",\" in `1_original_corpus.csv` to read as a csv file."
   ]
  },
  {
   "cell_type": "markdown",
   "id": "d7088964",
   "metadata": {},
   "source": [
    "### Removing Empty Sentences"
   ]
  },
  {
   "cell_type": "code",
   "execution_count": 2,
   "id": "b8a1a4cb",
   "metadata": {},
   "outputs": [
    {
     "data": {
      "text/html": [
       "<div>\n",
       "<style scoped>\n",
       "    .dataframe tbody tr th:only-of-type {\n",
       "        vertical-align: middle;\n",
       "    }\n",
       "\n",
       "    .dataframe tbody tr th {\n",
       "        vertical-align: top;\n",
       "    }\n",
       "\n",
       "    .dataframe thead th {\n",
       "        text-align: right;\n",
       "    }\n",
       "</style>\n",
       "<table border=\"1\" class=\"dataframe\">\n",
       "  <thead>\n",
       "    <tr style=\"text-align: right;\">\n",
       "      <th></th>\n",
       "      <th>sentence</th>\n",
       "    </tr>\n",
       "  </thead>\n",
       "  <tbody>\n",
       "    <tr>\n",
       "      <th>0</th>\n",
       "      <td>රජරට වකුගඩු රෝගය හා බටහිර බංකොලොත් දැනුම - Sun...</td>\n",
       "    </tr>\n",
       "    <tr>\n",
       "      <th>1</th>\n",
       "      <td>VEDAKAMA FOR RAJARATA KIDNEY PATIENTS - Wednes...</td>\n",
       "    </tr>\n",
       "    <tr>\n",
       "      <th>2</th>\n",
       "      <td>As we mentioned last week not only that there ...</td>\n",
       "    </tr>\n",
       "    <tr>\n",
       "      <th>3</th>\n",
       "      <td>Apparently the Sri Lanka Medical Council (SLMC...</td>\n",
       "    </tr>\n",
       "    <tr>\n",
       "      <th>4</th>\n",
       "      <td>I do not know the exact words used by the SLMC...</td>\n",
       "    </tr>\n",
       "  </tbody>\n",
       "</table>\n",
       "</div>"
      ],
      "text/plain": [
       "                                            sentence\n",
       "0  රජරට වකුගඩු රෝගය හා බටහිර බංකොලොත් දැනුම - Sun...\n",
       "1  VEDAKAMA FOR RAJARATA KIDNEY PATIENTS - Wednes...\n",
       "2  As we mentioned last week not only that there ...\n",
       "3  Apparently the Sri Lanka Medical Council (SLMC...\n",
       "4  I do not know the exact words used by the SLMC..."
      ]
     },
     "execution_count": 2,
     "metadata": {},
     "output_type": "execute_result"
    }
   ],
   "source": [
    "corpus_1 = pd.read_csv(\"Cleaning_the_Corpus/1_original_corpus.csv\")\n",
    "corpus_1.head()"
   ]
  },
  {
   "cell_type": "code",
   "execution_count": 3,
   "id": "d8dc9eaa",
   "metadata": {},
   "outputs": [],
   "source": [
    "# corpus_1.to_csv(\"Cleaning_the_Corpus/2_removed_empty_sentences.csv\", index=False)"
   ]
  },
  {
   "cell_type": "markdown",
   "id": "a45f603b",
   "metadata": {},
   "source": [
    "### Removing English Sentences"
   ]
  },
  {
   "cell_type": "code",
   "execution_count": 4,
   "id": "bd80f681",
   "metadata": {},
   "outputs": [
    {
     "data": {
      "text/html": [
       "<div>\n",
       "<style scoped>\n",
       "    .dataframe tbody tr th:only-of-type {\n",
       "        vertical-align: middle;\n",
       "    }\n",
       "\n",
       "    .dataframe tbody tr th {\n",
       "        vertical-align: top;\n",
       "    }\n",
       "\n",
       "    .dataframe thead th {\n",
       "        text-align: right;\n",
       "    }\n",
       "</style>\n",
       "<table border=\"1\" class=\"dataframe\">\n",
       "  <thead>\n",
       "    <tr style=\"text-align: right;\">\n",
       "      <th></th>\n",
       "      <th>sentence</th>\n",
       "    </tr>\n",
       "  </thead>\n",
       "  <tbody>\n",
       "    <tr>\n",
       "      <th>0</th>\n",
       "      <td>රජරට වකුගඩු රෝගය හා බටහිර බංකොලොත් දැනුම - Sun...</td>\n",
       "    </tr>\n",
       "    <tr>\n",
       "      <th>1</th>\n",
       "      <td>VEDAKAMA FOR RAJARATA KIDNEY PATIENTS - Wednes...</td>\n",
       "    </tr>\n",
       "    <tr>\n",
       "      <th>2</th>\n",
       "      <td>As we mentioned last week not only that there ...</td>\n",
       "    </tr>\n",
       "    <tr>\n",
       "      <th>3</th>\n",
       "      <td>Apparently the Sri Lanka Medical Council (SLMC...</td>\n",
       "    </tr>\n",
       "    <tr>\n",
       "      <th>4</th>\n",
       "      <td>I do not know the exact words used by the SLMC...</td>\n",
       "    </tr>\n",
       "  </tbody>\n",
       "</table>\n",
       "</div>"
      ],
      "text/plain": [
       "                                            sentence\n",
       "0  රජරට වකුගඩු රෝගය හා බටහිර බංකොලොත් දැනුම - Sun...\n",
       "1  VEDAKAMA FOR RAJARATA KIDNEY PATIENTS - Wednes...\n",
       "2  As we mentioned last week not only that there ...\n",
       "3  Apparently the Sri Lanka Medical Council (SLMC...\n",
       "4  I do not know the exact words used by the SLMC..."
      ]
     },
     "execution_count": 4,
     "metadata": {},
     "output_type": "execute_result"
    }
   ],
   "source": [
    "corpus_2 = pd.read_csv(\"Cleaning_the_Corpus/2_removed_empty_sentences.csv\")\n",
    "corpus_2.head()"
   ]
  },
  {
   "cell_type": "code",
   "execution_count": 5,
   "id": "01829427",
   "metadata": {},
   "outputs": [],
   "source": [
    "letters = ['a', 'b', 'c', 'd', 'e', 'f', 'g', 'h', 'i', 'j', 'k', 'l', 'm', 'n', 'o', 'p', 'q', 'r', 's', 't', 'u', 'v', 'w', 'x', 'y', 'z', 'A', 'B', 'C', 'D', 'E', 'F', 'G', 'H', 'I', 'J', 'K', 'L', 'M', 'N', 'O', 'P', 'Q', 'R', 'S', 'T', 'U', 'V', 'W', 'X', 'Y', 'Z']\n",
    "pattern = '|'.join(letters)\n",
    "sentences_with_english_letters = corpus_2[corpus_2['sentence'].str.contains(pattern)]\n",
    "sentences_without_english_letters = corpus_2[~corpus_2.sentence.isin(sentences_with_english_letters.sentence)]"
   ]
  },
  {
   "cell_type": "code",
   "execution_count": 6,
   "id": "938d1658",
   "metadata": {},
   "outputs": [],
   "source": [
    "# sentences_without_english_letters.to_csv(\"Cleaning_the_Corpus/3_removed_english_sentences.csv\", index=False)"
   ]
  },
  {
   "cell_type": "markdown",
   "id": "42eac272",
   "metadata": {},
   "source": [
    "### Removing Sentences With Numbers"
   ]
  },
  {
   "cell_type": "code",
   "execution_count": 7,
   "id": "96000f25",
   "metadata": {},
   "outputs": [
    {
     "data": {
      "text/html": [
       "<div>\n",
       "<style scoped>\n",
       "    .dataframe tbody tr th:only-of-type {\n",
       "        vertical-align: middle;\n",
       "    }\n",
       "\n",
       "    .dataframe tbody tr th {\n",
       "        vertical-align: top;\n",
       "    }\n",
       "\n",
       "    .dataframe thead th {\n",
       "        text-align: right;\n",
       "    }\n",
       "</style>\n",
       "<table border=\"1\" class=\"dataframe\">\n",
       "  <thead>\n",
       "    <tr style=\"text-align: right;\">\n",
       "      <th></th>\n",
       "      <th>sentence</th>\n",
       "    </tr>\n",
       "  </thead>\n",
       "  <tbody>\n",
       "    <tr>\n",
       "      <th>0</th>\n",
       "      <td>කැලණිය විශ්වවිද්‍යාලය යනු විද්‍යාලංකාරය බව බොහ...</td>\n",
       "    </tr>\n",
       "    <tr>\n",
       "      <th>1</th>\n",
       "      <td>මෙයට අවුරුදු පනස්දෙකකට පමණ පෙර විද්‍යොදය හා වි...</td>\n",
       "    </tr>\n",
       "    <tr>\n",
       "      <th>2</th>\n",
       "      <td>ඒ ඔවුන්ට එකල තිබූ ලංකා විශ්වවිද්‍යාලයට (කොළඹට ...</td>\n",
       "    </tr>\n",
       "    <tr>\n",
       "      <th>3</th>\n",
       "      <td>විද්‍යොදයේ හා විිද්‍යාලංකාරයේ හැටෙි දශකයේ විද්...</td>\n",
       "    </tr>\n",
       "    <tr>\n",
       "      <th>4</th>\n",
       "      <td>අද ඔවුන්ගෙන් ඇතැමකු ඒ විශ්වවි්‍යාලවල ම කථිකාචා...</td>\n",
       "    </tr>\n",
       "  </tbody>\n",
       "</table>\n",
       "</div>"
      ],
      "text/plain": [
       "                                            sentence\n",
       "0  කැලණිය විශ්වවිද්‍යාලය යනු විද්‍යාලංකාරය බව බොහ...\n",
       "1  මෙයට අවුරුදු පනස්දෙකකට පමණ පෙර විද්‍යොදය හා වි...\n",
       "2  ඒ ඔවුන්ට එකල තිබූ ලංකා විශ්වවිද්‍යාලයට (කොළඹට ...\n",
       "3  විද්‍යොදයේ හා විිද්‍යාලංකාරයේ හැටෙි දශකයේ විද්...\n",
       "4  අද ඔවුන්ගෙන් ඇතැමකු ඒ විශ්වවි්‍යාලවල ම කථිකාචා..."
      ]
     },
     "execution_count": 7,
     "metadata": {},
     "output_type": "execute_result"
    }
   ],
   "source": [
    "corpus_3 = pd.read_csv(\"Cleaning_the_Corpus/3_removed_english_sentences.csv\")\n",
    "corpus_3.head()"
   ]
  },
  {
   "cell_type": "code",
   "execution_count": 8,
   "id": "68d6d2c2",
   "metadata": {},
   "outputs": [],
   "source": [
    "numbers = ['0', '1', '2', '3', '4', '5', '6', '7', '8', '9']\n",
    "pattern = '|'.join(numbers)\n",
    "sentences_with_numbers = corpus_3[corpus_3['sentence'].str.contains(pattern)]\n",
    "sentences_without_numbers = corpus_3[~corpus_3.sentence.isin(sentences_with_numbers.sentence)]"
   ]
  },
  {
   "cell_type": "code",
   "execution_count": 9,
   "id": "9aa690ca",
   "metadata": {},
   "outputs": [],
   "source": [
    "# sentences_without_numbers.to_csv(\"Cleaning_the_Corpus/4_removed_sentences_with_numbers.csv\", index=False)\n",
    "# sentences_with_numbers.to_csv(\"Cleaning_the_Corpus/Extra_Files/4_sentences_with_numbers.csv\", index=False)"
   ]
  },
  {
   "cell_type": "markdown",
   "id": "b6c0d1f1",
   "metadata": {},
   "source": [
    "### Removing Sentences Containing Brackets - No Need"
   ]
  },
  {
   "cell_type": "code",
   "execution_count": 10,
   "id": "2d462f39",
   "metadata": {},
   "outputs": [
    {
     "data": {
      "text/html": [
       "<div>\n",
       "<style scoped>\n",
       "    .dataframe tbody tr th:only-of-type {\n",
       "        vertical-align: middle;\n",
       "    }\n",
       "\n",
       "    .dataframe tbody tr th {\n",
       "        vertical-align: top;\n",
       "    }\n",
       "\n",
       "    .dataframe thead th {\n",
       "        text-align: right;\n",
       "    }\n",
       "</style>\n",
       "<table border=\"1\" class=\"dataframe\">\n",
       "  <thead>\n",
       "    <tr style=\"text-align: right;\">\n",
       "      <th></th>\n",
       "      <th>sentence</th>\n",
       "    </tr>\n",
       "  </thead>\n",
       "  <tbody>\n",
       "    <tr>\n",
       "      <th>0</th>\n",
       "      <td>කැලණිය විශ්වවිද්‍යාලය යනු විද්‍යාලංකාරය බව බොහ...</td>\n",
       "    </tr>\n",
       "    <tr>\n",
       "      <th>1</th>\n",
       "      <td>මෙයට අවුරුදු පනස්දෙකකට පමණ පෙර විද්‍යොදය හා වි...</td>\n",
       "    </tr>\n",
       "    <tr>\n",
       "      <th>2</th>\n",
       "      <td>ඒ ඔවුන්ට එකල තිබූ ලංකා විශ්වවිද්‍යාලයට (කොළඹට ...</td>\n",
       "    </tr>\n",
       "    <tr>\n",
       "      <th>3</th>\n",
       "      <td>විද්‍යොදයේ හා විිද්‍යාලංකාරයේ හැටෙි දශකයේ විද්...</td>\n",
       "    </tr>\n",
       "    <tr>\n",
       "      <th>4</th>\n",
       "      <td>අද ඔවුන්ගෙන් ඇතැමකු ඒ විශ්වවි්‍යාලවල ම කථිකාචා...</td>\n",
       "    </tr>\n",
       "  </tbody>\n",
       "</table>\n",
       "</div>"
      ],
      "text/plain": [
       "                                            sentence\n",
       "0  කැලණිය විශ්වවිද්‍යාලය යනු විද්‍යාලංකාරය බව බොහ...\n",
       "1  මෙයට අවුරුදු පනස්දෙකකට පමණ පෙර විද්‍යොදය හා වි...\n",
       "2  ඒ ඔවුන්ට එකල තිබූ ලංකා විශ්වවිද්‍යාලයට (කොළඹට ...\n",
       "3  විද්‍යොදයේ හා විිද්‍යාලංකාරයේ හැටෙි දශකයේ විද්...\n",
       "4  අද ඔවුන්ගෙන් ඇතැමකු ඒ විශ්වවි්‍යාලවල ම කථිකාචා..."
      ]
     },
     "execution_count": 10,
     "metadata": {},
     "output_type": "execute_result"
    }
   ],
   "source": [
    "corpus_4 = pd.read_csv(\"Cleaning_the_Corpus/4_removed_sentences_with_numbers.csv\")\n",
    "corpus_4.head()"
   ]
  },
  {
   "cell_type": "code",
   "execution_count": 11,
   "id": "ae5bf9eb",
   "metadata": {},
   "outputs": [],
   "source": [
    "brackets = [\"\\(\", \"\\)\"]\n",
    "pattern = '|'.join(brackets)\n",
    "sentences_with_brackets = corpus_4[corpus_4['sentence'].str.contains(pattern)]\n",
    "sentences_without_brackets = corpus_4[~corpus_4.sentence.isin(sentences_with_brackets.sentence)]"
   ]
  },
  {
   "cell_type": "code",
   "execution_count": 12,
   "id": "7348fdec",
   "metadata": {},
   "outputs": [],
   "source": [
    "# sentences_without_brackets.to_csv(\"Cleaning_the_Corpus/5_1_removed_sentences_with_brackets.csv\", index=False)\n",
    "# sentences_with_brackets.to_csv(\"Cleaning_the_Corpus/Extra_Files/5_sentences_with_brackets.csv\", index=False)"
   ]
  },
  {
   "cell_type": "markdown",
   "id": "e60a6dcf",
   "metadata": {},
   "source": [
    "### Removing bracketed_text"
   ]
  },
  {
   "cell_type": "code",
   "execution_count": 13,
   "id": "f6ee1cbd",
   "metadata": {},
   "outputs": [
    {
     "data": {
      "text/html": [
       "<div>\n",
       "<style scoped>\n",
       "    .dataframe tbody tr th:only-of-type {\n",
       "        vertical-align: middle;\n",
       "    }\n",
       "\n",
       "    .dataframe tbody tr th {\n",
       "        vertical-align: top;\n",
       "    }\n",
       "\n",
       "    .dataframe thead th {\n",
       "        text-align: right;\n",
       "    }\n",
       "</style>\n",
       "<table border=\"1\" class=\"dataframe\">\n",
       "  <thead>\n",
       "    <tr style=\"text-align: right;\">\n",
       "      <th></th>\n",
       "      <th>sentence</th>\n",
       "    </tr>\n",
       "  </thead>\n",
       "  <tbody>\n",
       "    <tr>\n",
       "      <th>0</th>\n",
       "      <td>කැලණිය විශ්වවිද්‍යාලය යනු විද්‍යාලංකාරය බව බොහ...</td>\n",
       "    </tr>\n",
       "    <tr>\n",
       "      <th>1</th>\n",
       "      <td>මෙයට අවුරුදු පනස්දෙකකට පමණ පෙර විද්‍යොදය හා වි...</td>\n",
       "    </tr>\n",
       "    <tr>\n",
       "      <th>2</th>\n",
       "      <td>ඒ ඔවුන්ට එකල තිබූ ලංකා විශ්වවිද්‍යාලයට (කොළඹට ...</td>\n",
       "    </tr>\n",
       "    <tr>\n",
       "      <th>3</th>\n",
       "      <td>විද්‍යොදයේ හා විිද්‍යාලංකාරයේ හැටෙි දශකයේ විද්...</td>\n",
       "    </tr>\n",
       "    <tr>\n",
       "      <th>4</th>\n",
       "      <td>අද ඔවුන්ගෙන් ඇතැමකු ඒ විශ්වවි්‍යාලවල ම කථිකාචා...</td>\n",
       "    </tr>\n",
       "  </tbody>\n",
       "</table>\n",
       "</div>"
      ],
      "text/plain": [
       "                                            sentence\n",
       "0  කැලණිය විශ්වවිද්‍යාලය යනු විද්‍යාලංකාරය බව බොහ...\n",
       "1  මෙයට අවුරුදු පනස්දෙකකට පමණ පෙර විද්‍යොදය හා වි...\n",
       "2  ඒ ඔවුන්ට එකල තිබූ ලංකා විශ්වවිද්‍යාලයට (කොළඹට ...\n",
       "3  විද්‍යොදයේ හා විිද්‍යාලංකාරයේ හැටෙි දශකයේ විද්...\n",
       "4  අද ඔවුන්ගෙන් ඇතැමකු ඒ විශ්වවි්‍යාලවල ම කථිකාචා..."
      ]
     },
     "execution_count": 13,
     "metadata": {},
     "output_type": "execute_result"
    }
   ],
   "source": [
    "corpus_4 = pd.read_csv(\"Cleaning_the_Corpus/4_removed_sentences_with_numbers.csv\")\n",
    "corpus_4.head()"
   ]
  },
  {
   "cell_type": "code",
   "execution_count": 14,
   "id": "93db0a9b",
   "metadata": {},
   "outputs": [],
   "source": [
    "sentences_without_bracketed_text = corpus_4\n",
    "sentences_without_bracketed_text[\"sentence\"] = sentences_without_bracketed_text[\"sentence\"].str.replace(\"\\(([^)]+)\\)\\s*\", \"\", regex=True)"
   ]
  },
  {
   "cell_type": "code",
   "execution_count": 15,
   "id": "95e17093",
   "metadata": {},
   "outputs": [],
   "source": [
    "# sentences_without_bracketed_text.to_csv(\"Cleaning_the_Corpus/5_2_removed_bracketed_text.csv\", index=False)"
   ]
  },
  {
   "cell_type": "markdown",
   "id": "08a0c0be",
   "metadata": {},
   "source": [
    "### Removing Punctuations"
   ]
  },
  {
   "cell_type": "code",
   "execution_count": 16,
   "id": "732e3485",
   "metadata": {},
   "outputs": [
    {
     "data": {
      "text/html": [
       "<div>\n",
       "<style scoped>\n",
       "    .dataframe tbody tr th:only-of-type {\n",
       "        vertical-align: middle;\n",
       "    }\n",
       "\n",
       "    .dataframe tbody tr th {\n",
       "        vertical-align: top;\n",
       "    }\n",
       "\n",
       "    .dataframe thead th {\n",
       "        text-align: right;\n",
       "    }\n",
       "</style>\n",
       "<table border=\"1\" class=\"dataframe\">\n",
       "  <thead>\n",
       "    <tr style=\"text-align: right;\">\n",
       "      <th></th>\n",
       "      <th>sentence</th>\n",
       "    </tr>\n",
       "  </thead>\n",
       "  <tbody>\n",
       "    <tr>\n",
       "      <th>0</th>\n",
       "      <td>කැලණිය විශ්වවිද්‍යාලය යනු විද්‍යාලංකාරය බව බොහ...</td>\n",
       "    </tr>\n",
       "    <tr>\n",
       "      <th>1</th>\n",
       "      <td>මෙයට අවුරුදු පනස්දෙකකට පමණ පෙර විද්‍යොදය හා වි...</td>\n",
       "    </tr>\n",
       "    <tr>\n",
       "      <th>2</th>\n",
       "      <td>ඒ ඔවුන්ට එකල තිබූ ලංකා විශ්වවිද්‍යාලයට ඇතුල්වී...</td>\n",
       "    </tr>\n",
       "    <tr>\n",
       "      <th>3</th>\n",
       "      <td>විද්‍යොදයේ හා විිද්‍යාලංකාරයේ හැටෙි දශකයේ විද්...</td>\n",
       "    </tr>\n",
       "    <tr>\n",
       "      <th>4</th>\n",
       "      <td>අද ඔවුන්ගෙන් ඇතැමකු ඒ විශ්වවි්‍යාලවල ම කථිකාචා...</td>\n",
       "    </tr>\n",
       "  </tbody>\n",
       "</table>\n",
       "</div>"
      ],
      "text/plain": [
       "                                            sentence\n",
       "0  කැලණිය විශ්වවිද්‍යාලය යනු විද්‍යාලංකාරය බව බොහ...\n",
       "1  මෙයට අවුරුදු පනස්දෙකකට පමණ පෙර විද්‍යොදය හා වි...\n",
       "2  ඒ ඔවුන්ට එකල තිබූ ලංකා විශ්වවිද්‍යාලයට ඇතුල්වී...\n",
       "3  විද්‍යොදයේ හා විිද්‍යාලංකාරයේ හැටෙි දශකයේ විද්...\n",
       "4  අද ඔවුන්ගෙන් ඇතැමකු ඒ විශ්වවි්‍යාලවල ම කථිකාචා..."
      ]
     },
     "execution_count": 16,
     "metadata": {},
     "output_type": "execute_result"
    }
   ],
   "source": [
    "corpus_5 = pd.read_csv(\"Cleaning_the_Corpus/5_2_removed_bracketed_text.csv\")\n",
    "corpus_5.head()"
   ]
  },
  {
   "cell_type": "code",
   "execution_count": 17,
   "id": "1faa8f20",
   "metadata": {},
   "outputs": [],
   "source": [
    "punctuation = [\"-\", \"_\", \"+\", \"=\", \".\", \",\", \"<\", \">\", \"?\", \"!\", \"'\", \"/\", \"\\\\\", \"|\", \"~\", \":\", \";\", \"‘\", \"’\", \"“\", \"”\", \"෴\", \"`\", \"@\", \"#\", \"$\", \"%\", \"^\", \"&\", \"*\", \"[\", \"]\", \"{\", \"}\", \"(\", \")\", \"…\", \"■\", \"—\", \"•\", \"–\", \"·\", \"ν\", \"π\"]\n",
    "sentences_without_punctuations = corpus_5\n",
    "for p in punctuation:\n",
    "    sentences_without_punctuations[\"sentence\"] = sentences_without_punctuations[\"sentence\"].str.replace(p,'', regex=False)"
   ]
  },
  {
   "cell_type": "code",
   "execution_count": 18,
   "id": "0c88f353",
   "metadata": {},
   "outputs": [],
   "source": [
    "# sentences_without_punctuations.to_csv(\"Cleaning_the_Corpus/6_removed_punctuations.csv\", index=False)"
   ]
  },
  {
   "cell_type": "markdown",
   "id": "7c7442ef",
   "metadata": {},
   "source": [
    "- from `6_removed_punctuations.csv` manually removed `\"`"
   ]
  },
  {
   "cell_type": "markdown",
   "id": "0de01272",
   "metadata": {},
   "source": [
    "### Removing Starting and Trailing Whitespaces from Sentences, and Getting the Unique Sentences"
   ]
  },
  {
   "cell_type": "code",
   "execution_count": 19,
   "id": "6ea9e799",
   "metadata": {},
   "outputs": [
    {
     "data": {
      "text/html": [
       "<div>\n",
       "<style scoped>\n",
       "    .dataframe tbody tr th:only-of-type {\n",
       "        vertical-align: middle;\n",
       "    }\n",
       "\n",
       "    .dataframe tbody tr th {\n",
       "        vertical-align: top;\n",
       "    }\n",
       "\n",
       "    .dataframe thead th {\n",
       "        text-align: right;\n",
       "    }\n",
       "</style>\n",
       "<table border=\"1\" class=\"dataframe\">\n",
       "  <thead>\n",
       "    <tr style=\"text-align: right;\">\n",
       "      <th></th>\n",
       "      <th>sentence</th>\n",
       "    </tr>\n",
       "  </thead>\n",
       "  <tbody>\n",
       "    <tr>\n",
       "      <th>0</th>\n",
       "      <td>කැලණිය විශ්වවිද්‍යාලය යනු විද්‍යාලංකාරය බව බොහ...</td>\n",
       "    </tr>\n",
       "    <tr>\n",
       "      <th>1</th>\n",
       "      <td>මෙයට අවුරුදු පනස්දෙකකට පමණ පෙර විද්‍යොදය හා වි...</td>\n",
       "    </tr>\n",
       "    <tr>\n",
       "      <th>2</th>\n",
       "      <td>ඒ ඔවුන්ට එකල තිබූ ලංකා විශ්වවිද්‍යාලයට ඇතුල්වී...</td>\n",
       "    </tr>\n",
       "    <tr>\n",
       "      <th>3</th>\n",
       "      <td>විද්‍යොදයේ හා විිද්‍යාලංකාරයේ හැටෙි දශකයේ විද්...</td>\n",
       "    </tr>\n",
       "    <tr>\n",
       "      <th>4</th>\n",
       "      <td>අද ඔවුන්ගෙන් ඇතැමකු ඒ විශ්වවි්‍යාලවල ම කථිකාචා...</td>\n",
       "    </tr>\n",
       "  </tbody>\n",
       "</table>\n",
       "</div>"
      ],
      "text/plain": [
       "                                            sentence\n",
       "0  කැලණිය විශ්වවිද්‍යාලය යනු විද්‍යාලංකාරය බව බොහ...\n",
       "1  මෙයට අවුරුදු පනස්දෙකකට පමණ පෙර විද්‍යොදය හා වි...\n",
       "2  ඒ ඔවුන්ට එකල තිබූ ලංකා විශ්වවිද්‍යාලයට ඇතුල්වී...\n",
       "3  විද්‍යොදයේ හා විිද්‍යාලංකාරයේ හැටෙි දශකයේ විද්...\n",
       "4  අද ඔවුන්ගෙන් ඇතැමකු ඒ විශ්වවි්‍යාලවල ම කථිකාචා..."
      ]
     },
     "execution_count": 19,
     "metadata": {},
     "output_type": "execute_result"
    }
   ],
   "source": [
    "corpus_6 = pd.read_csv(\"Cleaning_the_Corpus/6_removed_punctuations.csv\")\n",
    "corpus_6.head()"
   ]
  },
  {
   "cell_type": "code",
   "execution_count": 20,
   "id": "97824208",
   "metadata": {},
   "outputs": [],
   "source": [
    "stripped_corpus = corpus_6\n",
    "stripped_corpus[\"sentence\"] = stripped_corpus[\"sentence\"].str.strip()\n",
    "unique_utterances = stripped_corpus.groupby([\"sentence\"]).count()"
   ]
  },
  {
   "cell_type": "code",
   "execution_count": 21,
   "id": "4168c344",
   "metadata": {},
   "outputs": [],
   "source": [
    "# unique_utterances.to_csv(\"Cleaning_the_Corpus/7_unique_sentences.csv\", index=True)"
   ]
  },
  {
   "cell_type": "markdown",
   "id": "b1a5f07e",
   "metadata": {},
   "source": [
    "- manually corrected the first few sentences and the last few sentences in `7_unique_sentences.csv` and created `8_corrected_unique_sentences.csv`"
   ]
  },
  {
   "cell_type": "markdown",
   "id": "2ae14896",
   "metadata": {},
   "source": [
    "### Getting Unique Words"
   ]
  },
  {
   "cell_type": "code",
   "execution_count": 22,
   "id": "859d73de",
   "metadata": {},
   "outputs": [
    {
     "data": {
      "text/html": [
       "<div>\n",
       "<style scoped>\n",
       "    .dataframe tbody tr th:only-of-type {\n",
       "        vertical-align: middle;\n",
       "    }\n",
       "\n",
       "    .dataframe tbody tr th {\n",
       "        vertical-align: top;\n",
       "    }\n",
       "\n",
       "    .dataframe thead th {\n",
       "        text-align: right;\n",
       "    }\n",
       "</style>\n",
       "<table border=\"1\" class=\"dataframe\">\n",
       "  <thead>\n",
       "    <tr style=\"text-align: right;\">\n",
       "      <th></th>\n",
       "      <th>sentence</th>\n",
       "    </tr>\n",
       "  </thead>\n",
       "  <tbody>\n",
       "    <tr>\n",
       "      <th>0</th>\n",
       "      <td>ඉන්දියාවට අවශ්‍ය වී ඇත්තේ පොලිස් බලතල හා ඉඩම් ...</td>\n",
       "    </tr>\n",
       "    <tr>\n",
       "      <th>1</th>\n",
       "      <td>ඔවුන්ට තමන්ගේ පෞද්ගලිකත්වය ඉස්මතු කරගන්නට එදා ...</td>\n",
       "    </tr>\n",
       "    <tr>\n",
       "      <th>2</th>\n",
       "      <td>ඔවුහු අප ඒ බවක් කී බව අමතක කරති</td>\n",
       "    </tr>\n",
       "    <tr>\n",
       "      <th>3</th>\n",
       "      <td>එය ස්පර්ශ කරන්නේ අතින් හා මනසෙනි</td>\n",
       "    </tr>\n",
       "    <tr>\n",
       "      <th>4</th>\n",
       "      <td>අ ආ ඇ ඈ ආදිය ස්වරයි</td>\n",
       "    </tr>\n",
       "    <tr>\n",
       "      <th>...</th>\n",
       "      <td>...</td>\n",
       "    </tr>\n",
       "    <tr>\n",
       "      <th>146518</th>\n",
       "      <td>ෙසෙද්ධාන්තිකව බටහිර විද්‍යාවට වැදගත් එකතු කිරී...</td>\n",
       "    </tr>\n",
       "    <tr>\n",
       "      <th>146519</th>\n",
       "      <td>ෙසෙල බෙදි බෙදී කළලය ක්‍රමයෙන් මවු කුස තුළ වැඩෙයි</td>\n",
       "    </tr>\n",
       "    <tr>\n",
       "      <th>146520</th>\n",
       "      <td>මේ අතර තවත් දෙයක් එතැන සිදු වුණා</td>\n",
       "    </tr>\n",
       "    <tr>\n",
       "      <th>146521</th>\n",
       "      <td>මාලබේ ප්‍රශ්නයට අපි පස්සෙ එමු</td>\n",
       "    </tr>\n",
       "    <tr>\n",
       "      <th>146522</th>\n",
       "      <td>⁣පහුගිය සතියෙ යන්තම් උණක් අරන් පහවෙලා ගිය නිසා...</td>\n",
       "    </tr>\n",
       "  </tbody>\n",
       "</table>\n",
       "<p>146523 rows × 1 columns</p>\n",
       "</div>"
      ],
      "text/plain": [
       "                                                 sentence\n",
       "0       ඉන්දියාවට අවශ්‍ය වී ඇත්තේ පොලිස් බලතල හා ඉඩම් ...\n",
       "1       ඔවුන්ට තමන්ගේ පෞද්ගලිකත්වය ඉස්මතු කරගන්නට එදා ...\n",
       "2                         ඔවුහු අප ඒ බවක් කී බව අමතක කරති\n",
       "3                        එය ස්පර්ශ කරන්නේ අතින් හා මනසෙනි\n",
       "4                                     අ ආ ඇ ඈ ආදිය ස්වරයි\n",
       "...                                                   ...\n",
       "146518  ෙසෙද්ධාන්තිකව බටහිර විද්‍යාවට වැදගත් එකතු කිරී...\n",
       "146519   ෙසෙල බෙදි බෙදී කළලය ක්‍රමයෙන් මවු කුස තුළ වැඩෙයි\n",
       "146520                   මේ අතර තවත් දෙයක් එතැන සිදු වුණා\n",
       "146521                      මාලබේ ප්‍රශ්නයට අපි පස්සෙ එමු\n",
       "146522  ⁣පහුගිය සතියෙ යන්තම් උණක් අරන් පහවෙලා ගිය නිසා...\n",
       "\n",
       "[146523 rows x 1 columns]"
      ]
     },
     "execution_count": 22,
     "metadata": {},
     "output_type": "execute_result"
    }
   ],
   "source": [
    "corpus_8 = pd.read_csv(\"Cleaning_the_Corpus/8_corrected_unique_sentences.csv\")\n",
    "corpus_8"
   ]
  },
  {
   "cell_type": "code",
   "execution_count": 23,
   "id": "917a4add",
   "metadata": {},
   "outputs": [],
   "source": [
    "results = set()\n",
    "corpus_8[\"sentence\"].str.strip().str.split().apply(results.update)\n",
    "words = pd.DataFrame(results)\n",
    "words.rename(columns={0: 'Word'}, inplace=True)\n",
    "sorted_words = words.sort_values(\"Word\")"
   ]
  },
  {
   "cell_type": "code",
   "execution_count": 24,
   "id": "8d711ae3",
   "metadata": {},
   "outputs": [],
   "source": [
    "# sorted_words.to_csv(\"Cleaning_the_Corpus/Extra_Files/8_1_unique_words.csv\", index=False)"
   ]
  },
  {
   "cell_type": "code",
   "execution_count": 25,
   "id": "862c07ca",
   "metadata": {},
   "outputs": [],
   "source": [
    "unique_words_count = corpus_8.sentence.str.split(expand=True).stack().value_counts()\n",
    "unique_word_count = pd.DataFrame(unique_words_count)"
   ]
  },
  {
   "cell_type": "code",
   "execution_count": 26,
   "id": "e142696e",
   "metadata": {},
   "outputs": [],
   "source": [
    "# unique_word_count.to_csv(\"Cleaning_the_Corpus/Extra_Files/8_2_unique_words_count.csv\")"
   ]
  },
  {
   "cell_type": "code",
   "execution_count": null,
   "id": "4816b6dd",
   "metadata": {},
   "outputs": [],
   "source": []
  }
 ],
 "metadata": {
  "kernelspec": {
   "display_name": "Python 3 (ipykernel)",
   "language": "python",
   "name": "python3"
  },
  "language_info": {
   "codemirror_mode": {
    "name": "ipython",
    "version": 3
   },
   "file_extension": ".py",
   "mimetype": "text/x-python",
   "name": "python",
   "nbconvert_exporter": "python",
   "pygments_lexer": "ipython3",
   "version": "3.9.7"
  }
 },
 "nbformat": 4,
 "nbformat_minor": 5
}
