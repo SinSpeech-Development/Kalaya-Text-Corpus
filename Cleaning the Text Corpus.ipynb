{
 "cells": [
  {
   "cell_type": "code",
   "execution_count": 1,
   "id": "1746c8b5",
   "metadata": {},
   "outputs": [],
   "source": [
    "import pandas as pd"
   ]
  },
  {
   "cell_type": "markdown",
   "id": "7d4996ae",
   "metadata": {},
   "source": [
    "- removing \",\" in `1_original_corpus.csv` to read as a csv file."
   ]
  },
  {
   "cell_type": "markdown",
   "id": "d7088964",
   "metadata": {},
   "source": [
    "### Removing Empty Sentences"
   ]
  },
  {
   "cell_type": "code",
   "execution_count": 2,
   "id": "b8a1a4cb",
   "metadata": {},
   "outputs": [
    {
     "data": {
      "text/html": [
       "<div>\n",
       "<style scoped>\n",
       "    .dataframe tbody tr th:only-of-type {\n",
       "        vertical-align: middle;\n",
       "    }\n",
       "\n",
       "    .dataframe tbody tr th {\n",
       "        vertical-align: top;\n",
       "    }\n",
       "\n",
       "    .dataframe thead th {\n",
       "        text-align: right;\n",
       "    }\n",
       "</style>\n",
       "<table border=\"1\" class=\"dataframe\">\n",
       "  <thead>\n",
       "    <tr style=\"text-align: right;\">\n",
       "      <th></th>\n",
       "      <th>sentence</th>\n",
       "    </tr>\n",
       "  </thead>\n",
       "  <tbody>\n",
       "    <tr>\n",
       "      <th>0</th>\n",
       "      <td>රජරට වකුගඩු රෝගය හා බටහිර බංකොලොත් දැනුම - Sun...</td>\n",
       "    </tr>\n",
       "    <tr>\n",
       "      <th>1</th>\n",
       "      <td>VEDAKAMA FOR RAJARATA KIDNEY PATIENTS - Wednes...</td>\n",
       "    </tr>\n",
       "    <tr>\n",
       "      <th>2</th>\n",
       "      <td>As we mentioned last week not only that there ...</td>\n",
       "    </tr>\n",
       "    <tr>\n",
       "      <th>3</th>\n",
       "      <td>Apparently the Sri Lanka Medical Council (SLMC...</td>\n",
       "    </tr>\n",
       "    <tr>\n",
       "      <th>4</th>\n",
       "      <td>I do not know the exact words used by the SLMC...</td>\n",
       "    </tr>\n",
       "  </tbody>\n",
       "</table>\n",
       "</div>"
      ],
      "text/plain": [
       "                                            sentence\n",
       "0  රජරට වකුගඩු රෝගය හා බටහිර බංකොලොත් දැනුම - Sun...\n",
       "1  VEDAKAMA FOR RAJARATA KIDNEY PATIENTS - Wednes...\n",
       "2  As we mentioned last week not only that there ...\n",
       "3  Apparently the Sri Lanka Medical Council (SLMC...\n",
       "4  I do not know the exact words used by the SLMC..."
      ]
     },
     "execution_count": 2,
     "metadata": {},
     "output_type": "execute_result"
    }
   ],
   "source": [
    "corpus_1 = pd.read_csv(\"Cleaning_the_Corpus/1_original_corpus.csv\")\n",
    "corpus_1.head()"
   ]
  },
  {
   "cell_type": "code",
   "execution_count": 3,
   "id": "d8dc9eaa",
   "metadata": {},
   "outputs": [],
   "source": [
    "# corpus_1.to_csv(\"Cleaning_the_Corpus/2_removed_empty_sentences.csv\", index=False)"
   ]
  },
  {
   "cell_type": "markdown",
   "id": "a45f603b",
   "metadata": {},
   "source": [
    "### Removing English Sentences"
   ]
  },
  {
   "cell_type": "code",
   "execution_count": 4,
   "id": "bd80f681",
   "metadata": {},
   "outputs": [
    {
     "data": {
      "text/html": [
       "<div>\n",
       "<style scoped>\n",
       "    .dataframe tbody tr th:only-of-type {\n",
       "        vertical-align: middle;\n",
       "    }\n",
       "\n",
       "    .dataframe tbody tr th {\n",
       "        vertical-align: top;\n",
       "    }\n",
       "\n",
       "    .dataframe thead th {\n",
       "        text-align: right;\n",
       "    }\n",
       "</style>\n",
       "<table border=\"1\" class=\"dataframe\">\n",
       "  <thead>\n",
       "    <tr style=\"text-align: right;\">\n",
       "      <th></th>\n",
       "      <th>sentence</th>\n",
       "    </tr>\n",
       "  </thead>\n",
       "  <tbody>\n",
       "    <tr>\n",
       "      <th>0</th>\n",
       "      <td>රජරට වකුගඩු රෝගය හා බටහිර බංකොලොත් දැනුම - Sun...</td>\n",
       "    </tr>\n",
       "    <tr>\n",
       "      <th>1</th>\n",
       "      <td>VEDAKAMA FOR RAJARATA KIDNEY PATIENTS - Wednes...</td>\n",
       "    </tr>\n",
       "    <tr>\n",
       "      <th>2</th>\n",
       "      <td>As we mentioned last week not only that there ...</td>\n",
       "    </tr>\n",
       "    <tr>\n",
       "      <th>3</th>\n",
       "      <td>Apparently the Sri Lanka Medical Council (SLMC...</td>\n",
       "    </tr>\n",
       "    <tr>\n",
       "      <th>4</th>\n",
       "      <td>I do not know the exact words used by the SLMC...</td>\n",
       "    </tr>\n",
       "  </tbody>\n",
       "</table>\n",
       "</div>"
      ],
      "text/plain": [
       "                                            sentence\n",
       "0  රජරට වකුගඩු රෝගය හා බටහිර බංකොලොත් දැනුම - Sun...\n",
       "1  VEDAKAMA FOR RAJARATA KIDNEY PATIENTS - Wednes...\n",
       "2  As we mentioned last week not only that there ...\n",
       "3  Apparently the Sri Lanka Medical Council (SLMC...\n",
       "4  I do not know the exact words used by the SLMC..."
      ]
     },
     "execution_count": 4,
     "metadata": {},
     "output_type": "execute_result"
    }
   ],
   "source": [
    "corpus_2 = pd.read_csv(\"Cleaning_the_Corpus/2_removed_empty_sentences.csv\")\n",
    "corpus_2.head()"
   ]
  },
  {
   "cell_type": "code",
   "execution_count": 5,
   "id": "01829427",
   "metadata": {},
   "outputs": [],
   "source": [
    "letters = ['a', 'b', 'c', 'd', 'e', 'f', 'g', 'h', 'i', 'j', 'k', 'l', 'm', 'n', 'o', 'p', 'q', 'r', 's', 't', 'u', 'v', 'w', 'x', 'y', 'z', 'A', 'B', 'C', 'D', 'E', 'F', 'G', 'H', 'I', 'J', 'K', 'L', 'M', 'N', 'O', 'P', 'Q', 'R', 'S', 'T', 'U', 'V', 'W', 'X', 'Y', 'Z']\n",
    "pattern = '|'.join(letters)\n",
    "sentences_with_english_letters = corpus_2[corpus_2['sentence'].str.contains(pattern)]\n",
    "sentences_without_english_letters = corpus_2[~corpus_2.sentence.isin(sentences_with_english_letters.sentence)]"
   ]
  },
  {
   "cell_type": "code",
   "execution_count": 6,
   "id": "938d1658",
   "metadata": {},
   "outputs": [],
   "source": [
    "# sentences_without_english_letters.to_csv(\"Cleaning_the_Corpus/3_removed_english_sentences.csv\", index=False)"
   ]
  },
  {
   "cell_type": "markdown",
   "id": "42eac272",
   "metadata": {},
   "source": [
    "### Removing Sentences With Numbers"
   ]
  },
  {
   "cell_type": "code",
   "execution_count": 7,
   "id": "96000f25",
   "metadata": {},
   "outputs": [
    {
     "data": {
      "text/html": [
       "<div>\n",
       "<style scoped>\n",
       "    .dataframe tbody tr th:only-of-type {\n",
       "        vertical-align: middle;\n",
       "    }\n",
       "\n",
       "    .dataframe tbody tr th {\n",
       "        vertical-align: top;\n",
       "    }\n",
       "\n",
       "    .dataframe thead th {\n",
       "        text-align: right;\n",
       "    }\n",
       "</style>\n",
       "<table border=\"1\" class=\"dataframe\">\n",
       "  <thead>\n",
       "    <tr style=\"text-align: right;\">\n",
       "      <th></th>\n",
       "      <th>sentence</th>\n",
       "    </tr>\n",
       "  </thead>\n",
       "  <tbody>\n",
       "    <tr>\n",
       "      <th>0</th>\n",
       "      <td>කැලණිය විශ්වවිද්‍යාලය යනු විද්‍යාලංකාරය බව බොහ...</td>\n",
       "    </tr>\n",
       "    <tr>\n",
       "      <th>1</th>\n",
       "      <td>මෙයට අවුරුදු පනස්දෙකකට පමණ පෙර විද්‍යොදය හා වි...</td>\n",
       "    </tr>\n",
       "    <tr>\n",
       "      <th>2</th>\n",
       "      <td>ඒ ඔවුන්ට එකල තිබූ ලංකා විශ්වවිද්‍යාලයට (කොළඹට ...</td>\n",
       "    </tr>\n",
       "    <tr>\n",
       "      <th>3</th>\n",
       "      <td>විද්‍යොදයේ හා විිද්‍යාලංකාරයේ හැටෙි දශකයේ විද්...</td>\n",
       "    </tr>\n",
       "    <tr>\n",
       "      <th>4</th>\n",
       "      <td>අද ඔවුන්ගෙන් ඇතැමකු ඒ විශ්වවි්‍යාලවල ම කථිකාචා...</td>\n",
       "    </tr>\n",
       "  </tbody>\n",
       "</table>\n",
       "</div>"
      ],
      "text/plain": [
       "                                            sentence\n",
       "0  කැලණිය විශ්වවිද්‍යාලය යනු විද්‍යාලංකාරය බව බොහ...\n",
       "1  මෙයට අවුරුදු පනස්දෙකකට පමණ පෙර විද්‍යොදය හා වි...\n",
       "2  ඒ ඔවුන්ට එකල තිබූ ලංකා විශ්වවිද්‍යාලයට (කොළඹට ...\n",
       "3  විද්‍යොදයේ හා විිද්‍යාලංකාරයේ හැටෙි දශකයේ විද්...\n",
       "4  අද ඔවුන්ගෙන් ඇතැමකු ඒ විශ්වවි්‍යාලවල ම කථිකාචා..."
      ]
     },
     "execution_count": 7,
     "metadata": {},
     "output_type": "execute_result"
    }
   ],
   "source": [
    "corpus_3 = pd.read_csv(\"Cleaning_the_Corpus/3_removed_english_sentences.csv\")\n",
    "corpus_3.head()"
   ]
  },
  {
   "cell_type": "code",
   "execution_count": 8,
   "id": "68d6d2c2",
   "metadata": {},
   "outputs": [],
   "source": [
    "numbers = ['0', '1', '2', '3', '4', '5', '6', '7', '8', '9']\n",
    "pattern = '|'.join(numbers)\n",
    "sentences_with_numbers = corpus_3[corpus_3['sentence'].str.contains(pattern)]\n",
    "sentences_without_numbers = corpus_3[~corpus_3.sentence.isin(sentences_with_numbers.sentence)]"
   ]
  },
  {
   "cell_type": "code",
   "execution_count": 9,
   "id": "9aa690ca",
   "metadata": {},
   "outputs": [],
   "source": [
    "# sentences_without_numbers.to_csv(\"Cleaning_the_Corpus/4_removed_sentences_with_numbers.csv\", index=False)\n",
    "# sentences_with_numbers.to_csv(\"Cleaning_the_Corpus/Extra_Files/4_sentences_with_numbers.csv\", index=False)"
   ]
  },
  {
   "cell_type": "markdown",
   "id": "b6c0d1f1",
   "metadata": {},
   "source": [
    "### Removing Sentences Containing Brackets - No Need"
   ]
  },
  {
   "cell_type": "code",
   "execution_count": 10,
   "id": "2d462f39",
   "metadata": {},
   "outputs": [
    {
     "data": {
      "text/html": [
       "<div>\n",
       "<style scoped>\n",
       "    .dataframe tbody tr th:only-of-type {\n",
       "        vertical-align: middle;\n",
       "    }\n",
       "\n",
       "    .dataframe tbody tr th {\n",
       "        vertical-align: top;\n",
       "    }\n",
       "\n",
       "    .dataframe thead th {\n",
       "        text-align: right;\n",
       "    }\n",
       "</style>\n",
       "<table border=\"1\" class=\"dataframe\">\n",
       "  <thead>\n",
       "    <tr style=\"text-align: right;\">\n",
       "      <th></th>\n",
       "      <th>sentence</th>\n",
       "    </tr>\n",
       "  </thead>\n",
       "  <tbody>\n",
       "    <tr>\n",
       "      <th>0</th>\n",
       "      <td>කැලණිය විශ්වවිද්‍යාලය යනු විද්‍යාලංකාරය බව බොහ...</td>\n",
       "    </tr>\n",
       "    <tr>\n",
       "      <th>1</th>\n",
       "      <td>මෙයට අවුරුදු පනස්දෙකකට පමණ පෙර විද්‍යොදය හා වි...</td>\n",
       "    </tr>\n",
       "    <tr>\n",
       "      <th>2</th>\n",
       "      <td>ඒ ඔවුන්ට එකල තිබූ ලංකා විශ්වවිද්‍යාලයට (කොළඹට ...</td>\n",
       "    </tr>\n",
       "    <tr>\n",
       "      <th>3</th>\n",
       "      <td>විද්‍යොදයේ හා විිද්‍යාලංකාරයේ හැටෙි දශකයේ විද්...</td>\n",
       "    </tr>\n",
       "    <tr>\n",
       "      <th>4</th>\n",
       "      <td>අද ඔවුන්ගෙන් ඇතැමකු ඒ විශ්වවි්‍යාලවල ම කථිකාචා...</td>\n",
       "    </tr>\n",
       "  </tbody>\n",
       "</table>\n",
       "</div>"
      ],
      "text/plain": [
       "                                            sentence\n",
       "0  කැලණිය විශ්වවිද්‍යාලය යනු විද්‍යාලංකාරය බව බොහ...\n",
       "1  මෙයට අවුරුදු පනස්දෙකකට පමණ පෙර විද්‍යොදය හා වි...\n",
       "2  ඒ ඔවුන්ට එකල තිබූ ලංකා විශ්වවිද්‍යාලයට (කොළඹට ...\n",
       "3  විද්‍යොදයේ හා විිද්‍යාලංකාරයේ හැටෙි දශකයේ විද්...\n",
       "4  අද ඔවුන්ගෙන් ඇතැමකු ඒ විශ්වවි්‍යාලවල ම කථිකාචා..."
      ]
     },
     "execution_count": 10,
     "metadata": {},
     "output_type": "execute_result"
    }
   ],
   "source": [
    "corpus_4 = pd.read_csv(\"Cleaning_the_Corpus/4_removed_sentences_with_numbers.csv\")\n",
    "corpus_4.head()"
   ]
  },
  {
   "cell_type": "code",
   "execution_count": 11,
   "id": "ae5bf9eb",
   "metadata": {},
   "outputs": [],
   "source": [
    "brackets = [\"\\(\", \"\\)\"]\n",
    "pattern = '|'.join(brackets)\n",
    "sentences_with_brackets = corpus_4[corpus_4['sentence'].str.contains(pattern)]\n",
    "sentences_without_brackets = corpus_4[~corpus_4.sentence.isin(sentences_with_brackets.sentence)]"
   ]
  },
  {
   "cell_type": "code",
   "execution_count": 12,
   "id": "7348fdec",
   "metadata": {},
   "outputs": [],
   "source": [
    "# sentences_without_brackets.to_csv(\"Cleaning_the_Corpus/5_1_removed_sentences_with_brackets.csv\", index=False)\n",
    "# sentences_with_brackets.to_csv(\"Cleaning_the_Corpus/Extra_Files/5_sentences_with_brackets.csv\", index=False)"
   ]
  },
  {
   "cell_type": "markdown",
   "id": "e60a6dcf",
   "metadata": {},
   "source": [
    "### Removing bracketed_text"
   ]
  },
  {
   "cell_type": "code",
   "execution_count": 13,
   "id": "f6ee1cbd",
   "metadata": {},
   "outputs": [
    {
     "data": {
      "text/html": [
       "<div>\n",
       "<style scoped>\n",
       "    .dataframe tbody tr th:only-of-type {\n",
       "        vertical-align: middle;\n",
       "    }\n",
       "\n",
       "    .dataframe tbody tr th {\n",
       "        vertical-align: top;\n",
       "    }\n",
       "\n",
       "    .dataframe thead th {\n",
       "        text-align: right;\n",
       "    }\n",
       "</style>\n",
       "<table border=\"1\" class=\"dataframe\">\n",
       "  <thead>\n",
       "    <tr style=\"text-align: right;\">\n",
       "      <th></th>\n",
       "      <th>sentence</th>\n",
       "    </tr>\n",
       "  </thead>\n",
       "  <tbody>\n",
       "    <tr>\n",
       "      <th>0</th>\n",
       "      <td>කැලණිය විශ්වවිද්‍යාලය යනු විද්‍යාලංකාරය බව බොහ...</td>\n",
       "    </tr>\n",
       "    <tr>\n",
       "      <th>1</th>\n",
       "      <td>මෙයට අවුරුදු පනස්දෙකකට පමණ පෙර විද්‍යොදය හා වි...</td>\n",
       "    </tr>\n",
       "    <tr>\n",
       "      <th>2</th>\n",
       "      <td>ඒ ඔවුන්ට එකල තිබූ ලංකා විශ්වවිද්‍යාලයට (කොළඹට ...</td>\n",
       "    </tr>\n",
       "    <tr>\n",
       "      <th>3</th>\n",
       "      <td>විද්‍යොදයේ හා විිද්‍යාලංකාරයේ හැටෙි දශකයේ විද්...</td>\n",
       "    </tr>\n",
       "    <tr>\n",
       "      <th>4</th>\n",
       "      <td>අද ඔවුන්ගෙන් ඇතැමකු ඒ විශ්වවි්‍යාලවල ම කථිකාචා...</td>\n",
       "    </tr>\n",
       "  </tbody>\n",
       "</table>\n",
       "</div>"
      ],
      "text/plain": [
       "                                            sentence\n",
       "0  කැලණිය විශ්වවිද්‍යාලය යනු විද්‍යාලංකාරය බව බොහ...\n",
       "1  මෙයට අවුරුදු පනස්දෙකකට පමණ පෙර විද්‍යොදය හා වි...\n",
       "2  ඒ ඔවුන්ට එකල තිබූ ලංකා විශ්වවිද්‍යාලයට (කොළඹට ...\n",
       "3  විද්‍යොදයේ හා විිද්‍යාලංකාරයේ හැටෙි දශකයේ විද්...\n",
       "4  අද ඔවුන්ගෙන් ඇතැමකු ඒ විශ්වවි්‍යාලවල ම කථිකාචා..."
      ]
     },
     "execution_count": 13,
     "metadata": {},
     "output_type": "execute_result"
    }
   ],
   "source": [
    "corpus_4 = pd.read_csv(\"Cleaning_the_Corpus/4_removed_sentences_with_numbers.csv\")\n",
    "corpus_4.head()"
   ]
  },
  {
   "cell_type": "code",
   "execution_count": 14,
   "id": "93db0a9b",
   "metadata": {},
   "outputs": [],
   "source": [
    "sentences_without_bracketed_text = corpus_4\n",
    "sentences_without_bracketed_text[\"sentence\"] = sentences_without_bracketed_text[\"sentence\"].str.replace(\"\\(([^)]+)\\)\\s*\", \"\", regex=True)"
   ]
  },
  {
   "cell_type": "code",
   "execution_count": 15,
   "id": "95e17093",
   "metadata": {},
   "outputs": [],
   "source": [
    "# sentences_without_bracketed_text.to_csv(\"Cleaning_the_Corpus/5_2_removed_bracketed_text.csv\", index=False)"
   ]
  },
  {
   "cell_type": "markdown",
   "id": "08a0c0be",
   "metadata": {},
   "source": [
    "### Removing Punctuations"
   ]
  },
  {
   "cell_type": "code",
   "execution_count": 16,
   "id": "732e3485",
   "metadata": {},
   "outputs": [
    {
     "data": {
      "text/html": [
       "<div>\n",
       "<style scoped>\n",
       "    .dataframe tbody tr th:only-of-type {\n",
       "        vertical-align: middle;\n",
       "    }\n",
       "\n",
       "    .dataframe tbody tr th {\n",
       "        vertical-align: top;\n",
       "    }\n",
       "\n",
       "    .dataframe thead th {\n",
       "        text-align: right;\n",
       "    }\n",
       "</style>\n",
       "<table border=\"1\" class=\"dataframe\">\n",
       "  <thead>\n",
       "    <tr style=\"text-align: right;\">\n",
       "      <th></th>\n",
       "      <th>sentence</th>\n",
       "    </tr>\n",
       "  </thead>\n",
       "  <tbody>\n",
       "    <tr>\n",
       "      <th>0</th>\n",
       "      <td>කැලණිය විශ්වවිද්‍යාලය යනු විද්‍යාලංකාරය බව බොහ...</td>\n",
       "    </tr>\n",
       "    <tr>\n",
       "      <th>1</th>\n",
       "      <td>මෙයට අවුරුදු පනස්දෙකකට පමණ පෙර විද්‍යොදය හා වි...</td>\n",
       "    </tr>\n",
       "    <tr>\n",
       "      <th>2</th>\n",
       "      <td>ඒ ඔවුන්ට එකල තිබූ ලංකා විශ්වවිද්‍යාලයට ඇතුල්වී...</td>\n",
       "    </tr>\n",
       "    <tr>\n",
       "      <th>3</th>\n",
       "      <td>විද්‍යොදයේ හා විිද්‍යාලංකාරයේ හැටෙි දශකයේ විද්...</td>\n",
       "    </tr>\n",
       "    <tr>\n",
       "      <th>4</th>\n",
       "      <td>අද ඔවුන්ගෙන් ඇතැමකු ඒ විශ්වවි්‍යාලවල ම කථිකාචා...</td>\n",
       "    </tr>\n",
       "  </tbody>\n",
       "</table>\n",
       "</div>"
      ],
      "text/plain": [
       "                                            sentence\n",
       "0  කැලණිය විශ්වවිද්‍යාලය යනු විද්‍යාලංකාරය බව බොහ...\n",
       "1  මෙයට අවුරුදු පනස්දෙකකට පමණ පෙර විද්‍යොදය හා වි...\n",
       "2  ඒ ඔවුන්ට එකල තිබූ ලංකා විශ්වවිද්‍යාලයට ඇතුල්වී...\n",
       "3  විද්‍යොදයේ හා විිද්‍යාලංකාරයේ හැටෙි දශකයේ විද්...\n",
       "4  අද ඔවුන්ගෙන් ඇතැමකු ඒ විශ්වවි්‍යාලවල ම කථිකාචා..."
      ]
     },
     "execution_count": 16,
     "metadata": {},
     "output_type": "execute_result"
    }
   ],
   "source": [
    "corpus_5 = pd.read_csv(\"Cleaning_the_Corpus/5_2_removed_bracketed_text.csv\")\n",
    "corpus_5.head()"
   ]
  },
  {
   "cell_type": "code",
   "execution_count": 17,
   "id": "1faa8f20",
   "metadata": {},
   "outputs": [],
   "source": [
    "punctuation = [\"-\", \"_\", \"+\", \"=\", \".\", \",\", \"<\", \">\", \"?\", \"!\", \"'\", \"/\", \"\\\\\", \"|\", \"~\", \":\", \";\", \"‘\", \"’\", \"“\", \"”\", \"෴\", \"`\", \"@\", \"#\", \"$\", \"%\", \"^\", \"&\", \"*\", \"[\", \"]\", \"{\", \"}\", \"(\", \")\", \"…\", \"■\", \"—\", \"•\", \"–\", \"·\", \"ν\", \"π\"]\n",
    "sentences_without_punctuations = corpus_5\n",
    "for p in punctuation:\n",
    "    sentences_without_punctuations[\"sentence\"] = sentences_without_punctuations[\"sentence\"].str.replace(p,'', regex=False)"
   ]
  },
  {
   "cell_type": "code",
   "execution_count": 18,
   "id": "0c88f353",
   "metadata": {},
   "outputs": [],
   "source": [
    "# sentences_without_punctuations.to_csv(\"Cleaning_the_Corpus/6_removed_punctuations.csv\", index=False)"
   ]
  },
  {
   "cell_type": "markdown",
   "id": "7c7442ef",
   "metadata": {},
   "source": [
    "- from `6_removed_punctuations.csv` manually removed `\"`"
   ]
  },
  {
   "cell_type": "markdown",
   "id": "0de01272",
   "metadata": {},
   "source": [
    "### Removing Starting and Trailing Whitespaces from Sentences, and Getting the Unique Sentences"
   ]
  },
  {
   "cell_type": "code",
   "execution_count": 19,
   "id": "6ea9e799",
   "metadata": {},
   "outputs": [
    {
     "data": {
      "text/html": [
       "<div>\n",
       "<style scoped>\n",
       "    .dataframe tbody tr th:only-of-type {\n",
       "        vertical-align: middle;\n",
       "    }\n",
       "\n",
       "    .dataframe tbody tr th {\n",
       "        vertical-align: top;\n",
       "    }\n",
       "\n",
       "    .dataframe thead th {\n",
       "        text-align: right;\n",
       "    }\n",
       "</style>\n",
       "<table border=\"1\" class=\"dataframe\">\n",
       "  <thead>\n",
       "    <tr style=\"text-align: right;\">\n",
       "      <th></th>\n",
       "      <th>sentence</th>\n",
       "    </tr>\n",
       "  </thead>\n",
       "  <tbody>\n",
       "    <tr>\n",
       "      <th>0</th>\n",
       "      <td>කැලණිය විශ්වවිද්‍යාලය යනු විද්‍යාලංකාරය බව බොහ...</td>\n",
       "    </tr>\n",
       "    <tr>\n",
       "      <th>1</th>\n",
       "      <td>මෙයට අවුරුදු පනස්දෙකකට පමණ පෙර විද්‍යොදය හා වි...</td>\n",
       "    </tr>\n",
       "    <tr>\n",
       "      <th>2</th>\n",
       "      <td>ඒ ඔවුන්ට එකල තිබූ ලංකා විශ්වවිද්‍යාලයට ඇතුල්වී...</td>\n",
       "    </tr>\n",
       "    <tr>\n",
       "      <th>3</th>\n",
       "      <td>විද්‍යොදයේ හා විිද්‍යාලංකාරයේ හැටෙි දශකයේ විද්...</td>\n",
       "    </tr>\n",
       "    <tr>\n",
       "      <th>4</th>\n",
       "      <td>අද ඔවුන්ගෙන් ඇතැමකු ඒ විශ්වවි්‍යාලවල ම කථිකාචා...</td>\n",
       "    </tr>\n",
       "  </tbody>\n",
       "</table>\n",
       "</div>"
      ],
      "text/plain": [
       "                                            sentence\n",
       "0  කැලණිය විශ්වවිද්‍යාලය යනු විද්‍යාලංකාරය බව බොහ...\n",
       "1  මෙයට අවුරුදු පනස්දෙකකට පමණ පෙර විද්‍යොදය හා වි...\n",
       "2  ඒ ඔවුන්ට එකල තිබූ ලංකා විශ්වවිද්‍යාලයට ඇතුල්වී...\n",
       "3  විද්‍යොදයේ හා විිද්‍යාලංකාරයේ හැටෙි දශකයේ විද්...\n",
       "4  අද ඔවුන්ගෙන් ඇතැමකු ඒ විශ්වවි්‍යාලවල ම කථිකාචා..."
      ]
     },
     "execution_count": 19,
     "metadata": {},
     "output_type": "execute_result"
    }
   ],
   "source": [
    "corpus_6 = pd.read_csv(\"Cleaning_the_Corpus/6_removed_punctuations.csv\")\n",
    "corpus_6.head()"
   ]
  },
  {
   "cell_type": "code",
   "execution_count": 20,
   "id": "97824208",
   "metadata": {},
   "outputs": [],
   "source": [
    "stripped_corpus = corpus_6\n",
    "stripped_corpus[\"sentence\"] = stripped_corpus[\"sentence\"].str.strip()\n",
    "unique_utterances = stripped_corpus.groupby([\"sentence\"]).count()"
   ]
  },
  {
   "cell_type": "code",
   "execution_count": 21,
   "id": "4168c344",
   "metadata": {},
   "outputs": [],
   "source": [
    "# unique_utterances.to_csv(\"Cleaning_the_Corpus/7_unique_sentences.csv\", index=True)"
   ]
  },
  {
   "cell_type": "markdown",
   "id": "b1a5f07e",
   "metadata": {},
   "source": [
    "- manually corrected the first few sentences and the last few sentences in `7_unique_sentences.csv` and created `8_corrected_unique_sentences.csv`\n",
    "- manually removed the zero width joiner in `ශ්‍රී ‍ ල නි පක්‍ෂය අද අයවැය සම්බන්ධයෙන් කුමන තීරණයක් ගත්තත් අප එයට විරුද්ධ නොවිය යුතුයි`"
   ]
  },
  {
   "cell_type": "markdown",
   "id": "2ae14896",
   "metadata": {},
   "source": [
    "### Getting Unique Words - No Need"
   ]
  },
  {
   "cell_type": "code",
   "execution_count": 22,
   "id": "859d73de",
   "metadata": {},
   "outputs": [
    {
     "data": {
      "text/html": [
       "<div>\n",
       "<style scoped>\n",
       "    .dataframe tbody tr th:only-of-type {\n",
       "        vertical-align: middle;\n",
       "    }\n",
       "\n",
       "    .dataframe tbody tr th {\n",
       "        vertical-align: top;\n",
       "    }\n",
       "\n",
       "    .dataframe thead th {\n",
       "        text-align: right;\n",
       "    }\n",
       "</style>\n",
       "<table border=\"1\" class=\"dataframe\">\n",
       "  <thead>\n",
       "    <tr style=\"text-align: right;\">\n",
       "      <th></th>\n",
       "      <th>sentence</th>\n",
       "    </tr>\n",
       "  </thead>\n",
       "  <tbody>\n",
       "    <tr>\n",
       "      <th>0</th>\n",
       "      <td>ඉන්දියාවට අවශ්‍ය වී ඇත්තේ පොලිස් බලතල හා ඉඩම් ...</td>\n",
       "    </tr>\n",
       "    <tr>\n",
       "      <th>1</th>\n",
       "      <td>ඔවුන්ට තමන්ගේ පෞද්ගලිකත්වය ඉස්මතු කරගන්නට එදා ...</td>\n",
       "    </tr>\n",
       "    <tr>\n",
       "      <th>2</th>\n",
       "      <td>ඔවුහු අප ඒ බවක් කී බව අමතක කරති</td>\n",
       "    </tr>\n",
       "    <tr>\n",
       "      <th>3</th>\n",
       "      <td>එය ස්පර්ශ කරන්නේ අතින් හා මනසෙනි</td>\n",
       "    </tr>\n",
       "    <tr>\n",
       "      <th>4</th>\n",
       "      <td>අ ආ ඇ ඈ ආදිය ස්වරයි</td>\n",
       "    </tr>\n",
       "  </tbody>\n",
       "</table>\n",
       "</div>"
      ],
      "text/plain": [
       "                                            sentence\n",
       "0  ඉන්දියාවට අවශ්‍ය වී ඇත්තේ පොලිස් බලතල හා ඉඩම් ...\n",
       "1  ඔවුන්ට තමන්ගේ පෞද්ගලිකත්වය ඉස්මතු කරගන්නට එදා ...\n",
       "2                    ඔවුහු අප ඒ බවක් කී බව අමතක කරති\n",
       "3                   එය ස්පර්ශ කරන්නේ අතින් හා මනසෙනි\n",
       "4                                අ ආ ඇ ඈ ආදිය ස්වරයි"
      ]
     },
     "execution_count": 22,
     "metadata": {},
     "output_type": "execute_result"
    }
   ],
   "source": [
    "corpus_8 = pd.read_csv(\"Cleaning_the_Corpus/8_corrected_unique_sentences.csv\")\n",
    "corpus_8.head()"
   ]
  },
  {
   "cell_type": "code",
   "execution_count": 23,
   "id": "917a4add",
   "metadata": {},
   "outputs": [],
   "source": [
    "results = set()\n",
    "corpus_8[\"sentence\"].str.strip().str.split().apply(results.update)\n",
    "words = pd.DataFrame(results)\n",
    "words.rename(columns={0: 'Word'}, inplace=True)\n",
    "sorted_words = words.sort_values(\"Word\")"
   ]
  },
  {
   "cell_type": "code",
   "execution_count": 24,
   "id": "8d711ae3",
   "metadata": {},
   "outputs": [],
   "source": [
    "# sorted_words.to_csv(\"Cleaning_the_Corpus/Extra_Files/8_1_unique_words.csv\", index=False)"
   ]
  },
  {
   "cell_type": "code",
   "execution_count": 25,
   "id": "862c07ca",
   "metadata": {},
   "outputs": [],
   "source": [
    "unique_words_count = corpus_8.sentence.str.split(expand=True).stack().value_counts()\n",
    "unique_word_count = pd.DataFrame(unique_words_count)"
   ]
  },
  {
   "cell_type": "code",
   "execution_count": 26,
   "id": "e142696e",
   "metadata": {},
   "outputs": [],
   "source": [
    "# unique_word_count.to_csv(\"Cleaning_the_Corpus/Extra_Files/8_2_unique_words_count.csv\")"
   ]
  },
  {
   "cell_type": "markdown",
   "id": "2d1b039b",
   "metadata": {},
   "source": [
    "### Fixing Issues with Zero Width Joiner"
   ]
  },
  {
   "cell_type": "markdown",
   "id": "2aa5c06f",
   "metadata": {},
   "source": [
    "- `\\u0DCA\\u200D\\u0DBB` rakaranshaya\n",
    "- `\\u0DCA\\u200D\\u0DBA` yansaya\n",
    "- `\\u0D9A\\u0DCA\\u200D\\u0DC2` ksha\n",
    "- `\\u200D` zero width joiner"
   ]
  },
  {
   "cell_type": "code",
   "execution_count": 2,
   "id": "e364ca46",
   "metadata": {},
   "outputs": [],
   "source": [
    "unique_words = pd.read_csv(\"Cleaning_the_Corpus/Extra_Files/8_1_unique_words.csv\")\n",
    "unique_words_list = unique_words[\"Word\"].tolist()"
   ]
  },
  {
   "cell_type": "code",
   "execution_count": 3,
   "id": "1dcf6f0b",
   "metadata": {},
   "outputs": [],
   "source": [
    "wrong_words_auto = []\n",
    "wrong_words_manual = []\n",
    "for word in unique_words_list:\n",
    "    if \"\\u200D\" in word:\n",
    "        zero_width_count = word.count(\"\\u200D\")\n",
    "        rakaranshaya_count = 0\n",
    "        yansaya_count = 0\n",
    "        ksha_count = 0\n",
    "        if \"\\u0DCA\\u200D\\u0DBB\" in word:\n",
    "            rakaranshaya_count = word.count(\"\\u0DCA\\u200D\\u0DBB\")\n",
    "        if \"\\u0DCA\\u200D\\u0DBA\" in word:\n",
    "            yansaya_count = word.count(\"\\u0DCA\\u200D\\u0DBA\")\n",
    "        if \"\\u0D9A\\u0DCA\\u200D\\u0DC2\":\n",
    "            ksha_count = word.count(\"\\u0D9A\\u0DCA\\u200D\\u0DC2\")\n",
    "        if zero_width_count != rakaranshaya_count + yansaya_count + ksha_count:\n",
    "            if rakaranshaya_count + yansaya_count != 0:\n",
    "                wrong_words_manual.append(word)\n",
    "            else:\n",
    "                wrong_words_auto.append(word)"
   ]
  },
  {
   "cell_type": "code",
   "execution_count": 4,
   "id": "a9fe79b3",
   "metadata": {},
   "outputs": [
    {
     "data": {
      "text/plain": [
       "['අත්\\u200dථසාලිනියෙහි',\n",
       " 'අලු\\u200dත්ම',\n",
       " 'අලු\\u200dත්වැඩියා',\n",
       " 'ඉංජි\\xadනේ\\xadරු\\u200dකම',\n",
       " 'ඉස්සෙන\\u200d්නේ',\n",
       " 'එක්සත්\\u200d',\n",
       " 'එ\\u200dරෝප්ලේන්',\n",
       " 'ඕස්ටේ\\u200dර්ලියාව',\n",
       " 'ක්\\u200dභභ',\n",
       " 'ක්\\u200dැහකදබ',\n",
       " 'ක්\\u200dැහකදබල',\n",
       " 'කැ\\u200dඳෙව්වා',\n",
       " 'කෙ\\u200dාටැ',\n",
       " 'ක\\u200dාලෙ',\n",
       " 'ටේ\\u200dරවෝ',\n",
       " 'තමන්\\u200dට',\n",
       " 'තියෙනවාද\\u200d',\n",
       " 'න්\\u200dදමරබ්ක',\n",
       " 'නැහැ\\u200d',\n",
       " 'නැ\\u200dඟෙනහිර',\n",
       " 'නැ\\u200dඟෙනහිරට',\n",
       " 'නැ\\u200dඟෙනහිරින්',\n",
       " 'නිලු\\u200dක්ෂි',\n",
       " 'නිව්\\u200d',\n",
       " 'නීතිය\\u200d',\n",
       " 'පර\\u200d',\n",
       " 'පිළිබඳව\\u200dයි',\n",
       " 'පුටු\\u200dවෙහි',\n",
       " 'බැ\\u200dඳෙනවා',\n",
       " 'බැ\\u200dඳෙන්න',\n",
       " 'බෙදී\\u200dෙම්',\n",
       " 'බො\\u200dහොම',\n",
       " 'මහාවිදර්\\u200dශනඥානයන්',\n",
       " 'මාර්\\u200dගචිත්තයනට',\n",
       " 'රටපු\\u200dරා',\n",
       " 'ර්ර්\\u200dනියා',\n",
       " 'ර්\\u200dඊනියා',\n",
       " 'ලංක\\u200dාවේ',\n",
       " 'ලිපි\\u200dයක්',\n",
       " 'විශේ\\u200dෂයෙන්ම',\n",
       " 'සම්පූර්\\u200dණ',\n",
       " 'සියලු\\u200d',\n",
       " 'හාමුදුරු\\u200dවන්',\n",
       " 'ීගක්\\u200dන්\\u200dීක්\\u200dග',\n",
       " '\\u200dඅඩි',\n",
       " '\\u200dඅන්තිමේට',\n",
       " '\\u200dඑමඟින්',\n",
       " '\\u200dඡන්දෙ',\n",
       " '\\u200dජනතාව',\n",
       " '\\u200dදේවල්වල',\n",
       " '\\u200dනොදීම',\n",
       " '\\u200dපෝර්මය',\n",
       " '\\u200dබටහිර',\n",
       " '\\u200dමිසක',\n",
       " '\\u200dයැවෙයි',\n",
       " '\\u200dවිපක්\\u200dෂයේ',\n",
       " '\\u200dහොයා',\n",
       " '\\u200d\\u200dසෛද්ධාන්තික',\n",
       " '\\u200d\\u200d\\u200d\\u200d\\u200dක\\u200dොටස']"
      ]
     },
     "execution_count": 4,
     "metadata": {},
     "output_type": "execute_result"
    }
   ],
   "source": [
    "wrong_words_auto"
   ]
  },
  {
   "cell_type": "code",
   "execution_count": 5,
   "id": "a1d958bb",
   "metadata": {},
   "outputs": [
    {
     "data": {
      "text/plain": [
       "['අග\\u200d්\\u200dරාමාත්\\u200dයතුමා',\n",
       " 'අග\\u200d්\\u200dරාමාත්\\u200dයවරයා',\n",
       " 'අනුප\\u200d්\\u200dරාප්ත',\n",
       " 'අනුප\\u200d්\\u200dරාප්තිකයා',\n",
       " 'අප\\u200d්\\u200dරකාශිත',\n",
       " 'අප\\u200d්\\u200dරිකානු',\n",
       " 'ආණ්ඩුක\\u200d්\\u200dරම',\n",
       " 'ඉංග\\u200d්\\u200dරීසි',\n",
       " 'උපක\\u200d්\\u200dරමය',\n",
       " 'උපක\\u200d්\\u200dරමයක්',\n",
       " 'ඕසටේ\\u200d්\\u200dරලියාව',\n",
       " 'කොන්ග\\u200d්\\u200dරසය',\n",
       " 'කොන්ග\\u200d්\\u200dරසයක්',\n",
       " 'කොන්ග\\u200d්\\u200dරසයට',\n",
       " 'කොන්ග\\u200d්\\u200dරසයත්',\n",
       " 'කොන්ග\\u200d්\\u200dරසයයි',\n",
       " 'කොන්ග\\u200d්\\u200dරසයෙන්',\n",
       " 'කොන්ග\\u200d්\\u200dරසයෙහි',\n",
       " 'කොන්ග\\u200d්\\u200dරසයේ',\n",
       " 'කොන්ග\\u200d්\\u200dරස්',\n",
       " 'ක\\u200d්\\u200dරම',\n",
       " 'ක\\u200d්\\u200dරමය',\n",
       " 'ක\\u200d්\\u200dරමයක්',\n",
       " 'ක\\u200d්\\u200dරමයට',\n",
       " 'ක\\u200d්\\u200dරමයෙන්',\n",
       " 'ක\\u200d්\\u200dරමවලින්',\n",
       " 'ක\\u200d්\\u200dරි',\n",
       " 'ක\\u200d්\\u200dරියා',\n",
       " 'ක\\u200d්\\u200dරියාකරන',\n",
       " 'ක\\u200d්\\u200dරියාත්මක',\n",
       " 'ක\\u200d්\\u200dරියාවක්',\n",
       " 'ක\\u200d්\\u200dරිස්තියානි',\n",
       " 'ක\\u200d්\\u200dරිස්තියානින්',\n",
       " 'ක\\u200d්\\u200dරිස්තියානින්ට',\n",
       " 'ක\\u200d්\\u200dරිස්තියානීන්ට',\n",
       " 'ගෝත\\u200d්\\u200dරයට',\n",
       " 'ග\\u200d්\\u200dරන්ථය',\n",
       " 'ග\\u200d්\\u200dරන්ථයෙන්',\n",
       " 'චාරිත\\u200d්\\u200dරානුකූල',\n",
       " 'ජයග\\u200d්\\u200dරහණය',\n",
       " 'ජයග\\u200d්\\u200dරහණයක්',\n",
       " 'ජයග\\u200d්\\u200dරහණයකින්',\n",
       " 'ජයග\\u200d්\\u200dරහණයෙන්',\n",
       " 'ත්\\u200dරස්\\u200dතයන්ට',\n",
       " 'ත\\u200d්\\u200dරපුෂ්\\u200dයකවල්ලික',\n",
       " 'ත\\u200d්\\u200dරපුෂ්\\u200dයකෛර්',\n",
       " 'දිස්ත\\u200d්\\u200dරික්',\n",
       " 'දිස්ත\\u200d්\\u200dරික්ක',\n",
       " 'දිස්ත\\u200d්\\u200dරික්කයේ',\n",
       " 'දිස්ත\\u200d්\\u200dරික්කවල',\n",
       " 'දේශපේ\\u200d්\\u200dරමී',\n",
       " 'දේශපේ\\u200d්\\u200dරමීන්',\n",
       " 'පද්\\u200dයත\\u200d්\\u200dරයෙන්',\n",
       " 'පරාක\\u200d්\\u200dරමබාහු',\n",
       " 'පාත\\u200d්\\u200dරවල',\n",
       " 'පෘතුගි\\u200d්\\u200dරසීන්',\n",
       " 'පේ\\u200d්\\u200dරමදාස',\n",
       " 'ප\\u200d්\\u200dරකාශ',\n",
       " 'ප\\u200d්\\u200dරකාශකයා',\n",
       " 'ප\\u200d්\\u200dරකාශනය',\n",
       " 'ප\\u200d්\\u200dරකාශනයක්',\n",
       " 'ප\\u200d්\\u200dරකාශනයෙන්',\n",
       " 'ප\\u200d්\\u200dරකාශනයේ',\n",
       " 'ප\\u200d්\\u200dරකාශයක්',\n",
       " 'ප\\u200d්\\u200dරකාශිත',\n",
       " 'ප\\u200d්\\u200dරජාතන්ත\\u200d්\\u200dරවාදයට',\n",
       " 'ප\\u200d්\\u200dරජාතන්ත\\u200d්\\u200dරීය',\n",
       " 'ප\\u200d්\\u200dරජාතාන්තික',\n",
       " 'ප\\u200d්\\u200dරණාමය',\n",
       " 'ප\\u200d්\\u200dරතික්ෂේප',\n",
       " 'ප\\u200d්\\u200dරතිඥා',\n",
       " 'ප\\u200d්\\u200dරතිපත්ති',\n",
       " 'ප\\u200d්\\u200dරතිපත්තිය',\n",
       " 'ප\\u200d්\\u200dරතිපත්තියට',\n",
       " 'ප\\u200d්\\u200dරතිපත්තියෙන්',\n",
       " 'ප\\u200d්\\u200dරතිඵල',\n",
       " 'ප\\u200d්\\u200dරතිඵලය',\n",
       " 'ප\\u200d්\\u200dරතිඵලයක්',\n",
       " 'ප\\u200d්\\u200dරතිමාව',\n",
       " 'ප\\u200d්\\u200dරතියෝජනය',\n",
       " 'ප\\u200d්\\u200dරතිශතය',\n",
       " 'ප\\u200d්\\u200dරතිශතයක්',\n",
       " 'ප\\u200d්\\u200dරතිසංස්කරණ',\n",
       " 'ප\\u200d්\\u200dරථම',\n",
       " 'ප\\u200d්\\u200dරදර්ශනය',\n",
       " 'ප\\u200d්\\u200dරදේශය',\n",
       " 'ප\\u200d්\\u200dරදේශයක්',\n",
       " 'ප\\u200d්\\u200dරදේශයෙන්',\n",
       " 'ප\\u200d්\\u200dරදේශයේ',\n",
       " 'ප\\u200d්\\u200dරදේශවල',\n",
       " 'ප\\u200d්\\u200dරදේශවලට',\n",
       " 'ප\\u200d්\\u200dරදේශවලත්',\n",
       " 'ප\\u200d්\\u200dරධාන',\n",
       " 'ප\\u200d්\\u200dරධානත්වයෙන්',\n",
       " 'ප\\u200d්\\u200dරධානියා',\n",
       " 'ප\\u200d්\\u200dරභාකරන්',\n",
       " 'ප\\u200d්\\u200dරභූන්',\n",
       " 'ප\\u200d්\\u200dරමාණයකට',\n",
       " 'ප\\u200d්\\u200dරමාණයකින්',\n",
       " 'ප\\u200d්\\u200dරමාණයෙන්',\n",
       " 'ප\\u200d්\\u200dරමුඛ',\n",
       " 'ප\\u200d්\\u200dරමුඛත්වය',\n",
       " 'ප\\u200d්\\u200dරයෝජනයට',\n",
       " 'ප\\u200d්\\u200dරවණතාව',\n",
       " 'ප\\u200d්\\u200dරවණතාවයේ',\n",
       " 'ප\\u200d්\\u200dරශ්න',\n",
       " 'ප\\u200d්\\u200dරශ්නය',\n",
       " 'ප\\u200d්\\u200dරශ්නයක්',\n",
       " 'ප\\u200d්\\u200dරශ්නයට',\n",
       " 'ප\\u200d්\\u200dරශ්නයත්',\n",
       " 'ප\\u200d්\\u200dරශ්නයයි',\n",
       " 'ප\\u200d්\\u200dරශ්නයේ',\n",
       " 'ප\\u200d්\\u200dරශ්නවල',\n",
       " 'ප\\u200d්\\u200dරසිද්ධ',\n",
       " 'ප\\u200d්\\u200dරාන්තය',\n",
       " 'ප\\u200d්\\u200dරාන්තයක්',\n",
       " 'ප\\u200d්\\u200dරාන්තයට',\n",
       " 'ප\\u200d්\\u200dරාර්ථනා',\n",
       " 'බාලසුබ\\u200d්\\u200dරමානියම්',\n",
       " 'බි\\u200d්\\u200dරතාන්\\u200dය',\n",
       " 'බි\\u200d්\\u200dරතාන්\\u200dයයන්',\n",
       " 'බි\\u200d්\\u200dරතාන්\\u200dයයේ',\n",
       " 'බ\\u200d්\\u200dරහ්ම',\n",
       " 'බ\\u200d්\\u200dරාහ්මී',\n",
       " 'මඤ්ජුශ\\u200d්\\u200dරී',\n",
       " 'මන්ත්\\u200dරී්\\u200d',\n",
       " 'මන්ත\\u200d්\\u200dරණ',\n",
       " 'මන්ත\\u200d්\\u200dරී',\n",
       " 'මන්ත\\u200d්\\u200dරීන්',\n",
       " 'මන්ත\\u200d්\\u200dරීවරයකු',\n",
       " 'මන්ත\\u200d්\\u200dරීවරයන්',\n",
       " 'මන්ත\\u200d්\\u200dරීවරයන්ගෙන්',\n",
       " 'මන්ත\\u200d්\\u200dරීවරයන්ගේ',\n",
       " 'මන්ත\\u200d්\\u200dරීවරයා',\n",
       " 'මන්ත\\u200d්\\u200dරීවරයෙක්',\n",
       " 'මන්ත\\u200d්\\u200dරීවරු',\n",
       " 'මන්ත\\u200d්\\u200dරීවරුන්',\n",
       " 'මන්ත\\u200d්\\u200dරීවරුන්ට',\n",
       " 'මන්ත\\u200d්\\u200dරීවරුනු',\n",
       " 'මිශ\\u200d්\\u200dර',\n",
       " 'මුන්නේත\\u200d්\\u200dර',\n",
       " 'මූලාශ\\u200d්\\u200dර',\n",
       " 'මෛතී\\u200d්\\u200dරපාල',\n",
       " 'මෛතී\\u200d්\\u200dරපාලට',\n",
       " 'මෛත\\u200d්\\u200dරිය',\n",
       " 'වරප\\u200d්\\u200dරසාද',\n",
       " 'වරප\\u200d්\\u200dරසාදත්',\n",
       " 'වරප\\u200d්\\u200dරසාදවලටත්',\n",
       " 'වික\\u200d්\\u200dරමසිංහට',\n",
       " 'විග\\u200d්\\u200dරහ',\n",
       " 'විද්\\u200dයා\\u200dවේ',\n",
       " 'ශාස්ත\\u200d්\\u200dරි',\n",
       " 'ශාස්ත\\u200d්\\u200dරී',\n",
       " 'ශ\\u200d්\\u200dරී',\n",
       " 'ශ\\u200d්\\u200dරීලනිප',\n",
       " 'සංක\\u200d්\\u200dරමණික',\n",
       " 'සංග\\u200d්\\u200dරහය',\n",
       " 'සත්\\u200dයග\\u200d්\\u200dරහය',\n",
       " 'සත්\\u200dයග\\u200d්\\u200dරහයක්',\n",
       " 'සමරවික\\u200d්\\u200dරම',\n",
       " 'සම්ප\\u200d්\\u200dරදායික',\n",
       " 'සිංඝලේන්ද්\\u200dරශිලාමේඝමහාරාජස්\\u200dයත\\u200d්\\u200dරයෝවිංශතිමේ',\n",
       " 'සූත\\u200d්\\u200dරයක්']"
      ]
     },
     "execution_count": 5,
     "metadata": {},
     "output_type": "execute_result"
    }
   ],
   "source": [
    "wrong_words_manual"
   ]
  },
  {
   "cell_type": "code",
   "execution_count": 29,
   "id": "0f939adf",
   "metadata": {},
   "outputs": [],
   "source": [
    "# f = open(\"Cleaning_the_Corpus/Extra_Files/9_incorrect_zero_width_joiner_words.csv\", \"a\", encoding=\"utf-8\")\n",
    "# for word in wrong_words_manual:\n",
    "#     f.write(word + \"\\n\")\n",
    "# f.write(\"\\n\")\n",
    "# for word in wrong_words_auto:\n",
    "#     f.write(word + \"\\n\")\n",
    "# f.close()"
   ]
  },
  {
   "cell_type": "markdown",
   "id": "36b6ae8c",
   "metadata": {},
   "source": [
    "- should replace words in `wrong_words_auto` with words in `wrong_words_auto_correct`\n",
    "- should replace words in `wrong_words_manual` with words in `wrong_words_manual_correct`"
   ]
  },
  {
   "cell_type": "code",
   "execution_count": 30,
   "id": "17c32d02",
   "metadata": {},
   "outputs": [],
   "source": [
    "wrong_words_auto_correct = []\n",
    "for word in wrong_words_auto:\n",
    "    correct_word = word.replace(\"\\u200d\", \"\")\n",
    "    wrong_words_auto_correct.append(correct_word)"
   ]
  },
  {
   "cell_type": "code",
   "execution_count": 31,
   "id": "d405ec75",
   "metadata": {},
   "outputs": [],
   "source": [
    "# only for this dataset\n",
    "wrong_words_manual_correct = []\n",
    "for word in wrong_words_manual:\n",
    "    temp_correct_word = word.replace(\"\\u200d්\\u200d\", \"්\\u200d\")\n",
    "    correct_word = temp_correct_word.replace(\"\\u200dයා\\u200d\", \"\\u200dයා\")\n",
    "    wrong_words_manual_correct.append(correct_word)"
   ]
  },
  {
   "cell_type": "code",
   "execution_count": 32,
   "id": "3dc576e0",
   "metadata": {},
   "outputs": [],
   "source": [
    "wrong_words_auto_dictionary = {}\n",
    "for key in wrong_words_auto:\n",
    "    for value in wrong_words_auto_correct:\n",
    "        wrong_words_auto_dictionary[key] = value\n",
    "        wrong_words_auto_correct.remove(value)\n",
    "        break "
   ]
  },
  {
   "cell_type": "code",
   "execution_count": 33,
   "id": "49b5ebee",
   "metadata": {},
   "outputs": [],
   "source": [
    "wrong_words_manual_dictionary = {}\n",
    "for key in wrong_words_manual:\n",
    "    for value in wrong_words_manual_correct:\n",
    "        wrong_words_manual_dictionary[key] = value\n",
    "        wrong_words_manual_correct.remove(value)\n",
    "        break "
   ]
  },
  {
   "cell_type": "code",
   "execution_count": 34,
   "id": "27e22f52",
   "metadata": {},
   "outputs": [
    {
     "data": {
      "text/html": [
       "<div>\n",
       "<style scoped>\n",
       "    .dataframe tbody tr th:only-of-type {\n",
       "        vertical-align: middle;\n",
       "    }\n",
       "\n",
       "    .dataframe tbody tr th {\n",
       "        vertical-align: top;\n",
       "    }\n",
       "\n",
       "    .dataframe thead th {\n",
       "        text-align: right;\n",
       "    }\n",
       "</style>\n",
       "<table border=\"1\" class=\"dataframe\">\n",
       "  <thead>\n",
       "    <tr style=\"text-align: right;\">\n",
       "      <th></th>\n",
       "      <th>sentence</th>\n",
       "    </tr>\n",
       "  </thead>\n",
       "  <tbody>\n",
       "    <tr>\n",
       "      <th>0</th>\n",
       "      <td>ඉන්දියාවට අවශ්‍ය වී ඇත්තේ පොලිස් බලතල හා ඉඩම් ...</td>\n",
       "    </tr>\n",
       "    <tr>\n",
       "      <th>1</th>\n",
       "      <td>ඔවුන්ට තමන්ගේ පෞද්ගලිකත්වය ඉස්මතු කරගන්නට එදා ...</td>\n",
       "    </tr>\n",
       "    <tr>\n",
       "      <th>2</th>\n",
       "      <td>ඔවුහු අප ඒ බවක් කී බව අමතක කරති</td>\n",
       "    </tr>\n",
       "    <tr>\n",
       "      <th>3</th>\n",
       "      <td>එය ස්පර්ශ කරන්නේ අතින් හා මනසෙනි</td>\n",
       "    </tr>\n",
       "    <tr>\n",
       "      <th>4</th>\n",
       "      <td>අ ආ ඇ ඈ ආදිය ස්වරයි</td>\n",
       "    </tr>\n",
       "  </tbody>\n",
       "</table>\n",
       "</div>"
      ],
      "text/plain": [
       "                                            sentence\n",
       "0  ඉන්දියාවට අවශ්‍ය වී ඇත්තේ පොලිස් බලතල හා ඉඩම් ...\n",
       "1  ඔවුන්ට තමන්ගේ පෞද්ගලිකත්වය ඉස්මතු කරගන්නට එදා ...\n",
       "2                    ඔවුහු අප ඒ බවක් කී බව අමතක කරති\n",
       "3                   එය ස්පර්ශ කරන්නේ අතින් හා මනසෙනි\n",
       "4                                අ ආ ඇ ඈ ආදිය ස්වරයි"
      ]
     },
     "execution_count": 34,
     "metadata": {},
     "output_type": "execute_result"
    }
   ],
   "source": [
    "corpus_8 = pd.read_csv(\"Cleaning_the_Corpus/8_corrected_unique_sentences.csv\")\n",
    "corpus_8.head()"
   ]
  },
  {
   "cell_type": "code",
   "execution_count": 35,
   "id": "63531cb8",
   "metadata": {},
   "outputs": [],
   "source": [
    "# zero_width_joiner_corrected_corpus = corpus_8\n",
    "\n",
    "# for i in range(0, len(zero_width_joiner_corrected_corpus[\"sentence\"])):\n",
    "#     for key in wrong_words_auto_dictionary:\n",
    "#         if key in zero_width_joiner_corrected_corpus[\"sentence\"][i]:\n",
    "#             zero_width_joiner_corrected_corpus[\"sentence\"][i] = zero_width_joiner_corrected_corpus[\"sentence\"][i].replace(key, wrong_words_auto_dictionary[key])\n",
    "            \n",
    "# for i in range(0, len(zero_width_joiner_corrected_corpus[\"sentence\"])):\n",
    "#     for key in wrong_words_manual_dictionary:\n",
    "#         if key in zero_width_joiner_corrected_corpus[\"sentence\"][i]:\n",
    "#             zero_width_joiner_corrected_corpus[\"sentence\"][i] = zero_width_joiner_corrected_corpus[\"sentence\"][i].replace(key, wrong_words_manual_dictionary[key])"
   ]
  },
  {
   "cell_type": "code",
   "execution_count": 36,
   "id": "8e112966",
   "metadata": {},
   "outputs": [],
   "source": [
    "# zero_width_joiner_corrected_corpus.to_csv(\"Cleaning_the_Corpus/9_removed_unnecessary_zero_width_joiner.csv\", index=False)"
   ]
  },
  {
   "cell_type": "markdown",
   "id": "af0adb21",
   "metadata": {},
   "source": [
    "### Removing ක්‍ෂ"
   ]
  },
  {
   "cell_type": "code",
   "execution_count": 37,
   "id": "88b8f69e",
   "metadata": {},
   "outputs": [
    {
     "data": {
      "text/html": [
       "<div>\n",
       "<style scoped>\n",
       "    .dataframe tbody tr th:only-of-type {\n",
       "        vertical-align: middle;\n",
       "    }\n",
       "\n",
       "    .dataframe tbody tr th {\n",
       "        vertical-align: top;\n",
       "    }\n",
       "\n",
       "    .dataframe thead th {\n",
       "        text-align: right;\n",
       "    }\n",
       "</style>\n",
       "<table border=\"1\" class=\"dataframe\">\n",
       "  <thead>\n",
       "    <tr style=\"text-align: right;\">\n",
       "      <th></th>\n",
       "      <th>sentence</th>\n",
       "    </tr>\n",
       "  </thead>\n",
       "  <tbody>\n",
       "    <tr>\n",
       "      <th>0</th>\n",
       "      <td>ඉන්දියාවට අවශ්‍ය වී ඇත්තේ පොලිස් බලතල හා ඉඩම් ...</td>\n",
       "    </tr>\n",
       "    <tr>\n",
       "      <th>1</th>\n",
       "      <td>ඔවුන්ට තමන්ගේ පෞද්ගලිකත්වය ඉස්මතු කරගන්නට එදා ...</td>\n",
       "    </tr>\n",
       "    <tr>\n",
       "      <th>2</th>\n",
       "      <td>ඔවුහු අප ඒ බවක් කී බව අමතක කරති</td>\n",
       "    </tr>\n",
       "    <tr>\n",
       "      <th>3</th>\n",
       "      <td>එය ස්පර්ශ කරන්නේ අතින් හා මනසෙනි</td>\n",
       "    </tr>\n",
       "    <tr>\n",
       "      <th>4</th>\n",
       "      <td>අ ආ ඇ ඈ ආදිය ස්වරයි</td>\n",
       "    </tr>\n",
       "  </tbody>\n",
       "</table>\n",
       "</div>"
      ],
      "text/plain": [
       "                                            sentence\n",
       "0  ඉන්දියාවට අවශ්‍ය වී ඇත්තේ පොලිස් බලතල හා ඉඩම් ...\n",
       "1  ඔවුන්ට තමන්ගේ පෞද්ගලිකත්වය ඉස්මතු කරගන්නට එදා ...\n",
       "2                    ඔවුහු අප ඒ බවක් කී බව අමතක කරති\n",
       "3                   එය ස්පර්ශ කරන්නේ අතින් හා මනසෙනි\n",
       "4                                අ ආ ඇ ඈ ආදිය ස්වරයි"
      ]
     },
     "execution_count": 37,
     "metadata": {},
     "output_type": "execute_result"
    }
   ],
   "source": [
    "corpus_9 = pd.read_csv(\"Cleaning_the_Corpus/9_removed_unnecessary_zero_width_joiner.csv\")\n",
    "corpus_9.head()"
   ]
  },
  {
   "cell_type": "code",
   "execution_count": 38,
   "id": "8f38ce6b",
   "metadata": {},
   "outputs": [],
   "source": [
    "sentences_without_ksha = corpus_9\n",
    "sentences_without_ksha[\"sentence\"] = sentences_without_ksha[\"sentence\"].str.replace(\"\\u0D9A\\u0DCA\\u200D\\u0DC2\", \"\\u0D9A\\u0DCA\\u0DC2\")"
   ]
  },
  {
   "cell_type": "code",
   "execution_count": 39,
   "id": "4434205c",
   "metadata": {},
   "outputs": [],
   "source": [
    "# sentences_without_ksha.to_csv(\"Cleaning_the_Corpus/10_removed_ksha.csv\", index=False)"
   ]
  },
  {
   "cell_type": "markdown",
   "id": "a4780c23",
   "metadata": {},
   "source": [
    "### Getting Unique Words - No Need"
   ]
  },
  {
   "cell_type": "code",
   "execution_count": 40,
   "id": "7b88b5e3",
   "metadata": {},
   "outputs": [
    {
     "data": {
      "text/html": [
       "<div>\n",
       "<style scoped>\n",
       "    .dataframe tbody tr th:only-of-type {\n",
       "        vertical-align: middle;\n",
       "    }\n",
       "\n",
       "    .dataframe tbody tr th {\n",
       "        vertical-align: top;\n",
       "    }\n",
       "\n",
       "    .dataframe thead th {\n",
       "        text-align: right;\n",
       "    }\n",
       "</style>\n",
       "<table border=\"1\" class=\"dataframe\">\n",
       "  <thead>\n",
       "    <tr style=\"text-align: right;\">\n",
       "      <th></th>\n",
       "      <th>sentence</th>\n",
       "    </tr>\n",
       "  </thead>\n",
       "  <tbody>\n",
       "    <tr>\n",
       "      <th>0</th>\n",
       "      <td>ඉන්දියාවට අවශ්‍ය වී ඇත්තේ පොලිස් බලතල හා ඉඩම් ...</td>\n",
       "    </tr>\n",
       "    <tr>\n",
       "      <th>1</th>\n",
       "      <td>ඔවුන්ට තමන්ගේ පෞද්ගලිකත්වය ඉස්මතු කරගන්නට එදා ...</td>\n",
       "    </tr>\n",
       "    <tr>\n",
       "      <th>2</th>\n",
       "      <td>ඔවුහු අප ඒ බවක් කී බව අමතක කරති</td>\n",
       "    </tr>\n",
       "    <tr>\n",
       "      <th>3</th>\n",
       "      <td>එය ස්පර්ශ කරන්නේ අතින් හා මනසෙනි</td>\n",
       "    </tr>\n",
       "    <tr>\n",
       "      <th>4</th>\n",
       "      <td>අ ආ ඇ ඈ ආදිය ස්වරයි</td>\n",
       "    </tr>\n",
       "  </tbody>\n",
       "</table>\n",
       "</div>"
      ],
      "text/plain": [
       "                                            sentence\n",
       "0  ඉන්දියාවට අවශ්‍ය වී ඇත්තේ පොලිස් බලතල හා ඉඩම් ...\n",
       "1  ඔවුන්ට තමන්ගේ පෞද්ගලිකත්වය ඉස්මතු කරගන්නට එදා ...\n",
       "2                    ඔවුහු අප ඒ බවක් කී බව අමතක කරති\n",
       "3                   එය ස්පර්ශ කරන්නේ අතින් හා මනසෙනි\n",
       "4                                අ ආ ඇ ඈ ආදිය ස්වරයි"
      ]
     },
     "execution_count": 40,
     "metadata": {},
     "output_type": "execute_result"
    }
   ],
   "source": [
    "corpus_10 = pd.read_csv(\"Cleaning_the_Corpus/10_removed_ksha.csv\")\n",
    "corpus_10.head()"
   ]
  },
  {
   "cell_type": "code",
   "execution_count": 41,
   "id": "80e9119e",
   "metadata": {},
   "outputs": [],
   "source": [
    "results = set()\n",
    "corpus_10[\"sentence\"].str.strip().str.split().apply(results.update)\n",
    "words = pd.DataFrame(results)\n",
    "words.rename(columns={0: 'Word'}, inplace=True)\n",
    "sorted_words = words.sort_values(\"Word\")"
   ]
  },
  {
   "cell_type": "code",
   "execution_count": 42,
   "id": "b0b71f9b",
   "metadata": {},
   "outputs": [],
   "source": [
    "# sorted_words.to_csv(\"Cleaning_the_Corpus/Extra_Files/10_1_unique_words.csv\", index=False)"
   ]
  },
  {
   "cell_type": "code",
   "execution_count": 43,
   "id": "63719dde",
   "metadata": {},
   "outputs": [],
   "source": [
    "unique_words_count = corpus_10.sentence.str.split(expand=True).stack().value_counts()\n",
    "unique_word_count = pd.DataFrame(unique_words_count)"
   ]
  },
  {
   "cell_type": "code",
   "execution_count": 44,
   "id": "aaa76aa9",
   "metadata": {},
   "outputs": [],
   "source": [
    "# unique_word_count.to_csv(\"Cleaning_the_Corpus/Extra_Files/10_2_unique_words_count.csv\")"
   ]
  },
  {
   "cell_type": "markdown",
   "id": "74765d24",
   "metadata": {},
   "source": [
    "### Checking for Incorrect Zero Width Joiner Words"
   ]
  },
  {
   "cell_type": "code",
   "execution_count": 45,
   "id": "00e9a4ce",
   "metadata": {},
   "outputs": [],
   "source": [
    "unique_words = pd.read_csv(\"Cleaning_the_Corpus/Extra_Files/10_1_unique_words.csv\")\n",
    "unique_words_list = unique_words[\"Word\"].tolist()"
   ]
  },
  {
   "cell_type": "code",
   "execution_count": 46,
   "id": "c87e41cc",
   "metadata": {},
   "outputs": [],
   "source": [
    "wrong_words_auto = []\n",
    "wrong_words_manual = []\n",
    "for word in unique_words_list:\n",
    "    if \"\\u200D\" in word:\n",
    "        zero_width_count = word.count(\"\\u200D\")\n",
    "        rakaranshaya_count = 0\n",
    "        yansaya_count = 0\n",
    "        ksha_count = 0\n",
    "        if \"\\u0DCA\\u200D\\u0DBB\" in word:\n",
    "            rakaranshaya_count = word.count(\"\\u0DCA\\u200D\\u0DBB\")\n",
    "        if \"\\u0DCA\\u200D\\u0DBA\" in word:\n",
    "            yansaya_count = word.count(\"\\u0DCA\\u200D\\u0DBA\")\n",
    "        if \"\\u0D9A\\u0DCA\\u200D\\u0DC2\":\n",
    "            ksha_count = word.count(\"\\u0D9A\\u0DCA\\u200D\\u0DC2\")\n",
    "        if zero_width_count != rakaranshaya_count + yansaya_count + ksha_count:\n",
    "            if rakaranshaya_count + yansaya_count != 0:\n",
    "                wrong_words_manual.append(word)\n",
    "            else:\n",
    "                wrong_words_auto.append(word)"
   ]
  },
  {
   "cell_type": "code",
   "execution_count": 47,
   "id": "1c976f44",
   "metadata": {},
   "outputs": [
    {
     "data": {
      "text/plain": [
       "[]"
      ]
     },
     "execution_count": 47,
     "metadata": {},
     "output_type": "execute_result"
    }
   ],
   "source": [
    "wrong_words_auto"
   ]
  },
  {
   "cell_type": "code",
   "execution_count": 48,
   "id": "0397858b",
   "metadata": {},
   "outputs": [
    {
     "data": {
      "text/plain": [
       "['ත්\\u200dරස්\\u200dතයන්ට', 'මන්ත්\\u200dරී්\\u200d']"
      ]
     },
     "execution_count": 48,
     "metadata": {},
     "output_type": "execute_result"
    }
   ],
   "source": [
    "wrong_words_manual"
   ]
  },
  {
   "cell_type": "code",
   "execution_count": 49,
   "id": "71559413",
   "metadata": {},
   "outputs": [],
   "source": [
    "new_dictionary = {\n",
    "    \"මන්ත්‍රී්‍\": \"මන්ත්‍රී\",\n",
    "    \"ත්‍රස්‍තයන්ට\": \"ත්‍රස්තයන්ට\"\n",
    "}"
   ]
  },
  {
   "cell_type": "code",
   "execution_count": 50,
   "id": "2954e51a",
   "metadata": {},
   "outputs": [
    {
     "data": {
      "text/html": [
       "<div>\n",
       "<style scoped>\n",
       "    .dataframe tbody tr th:only-of-type {\n",
       "        vertical-align: middle;\n",
       "    }\n",
       "\n",
       "    .dataframe tbody tr th {\n",
       "        vertical-align: top;\n",
       "    }\n",
       "\n",
       "    .dataframe thead th {\n",
       "        text-align: right;\n",
       "    }\n",
       "</style>\n",
       "<table border=\"1\" class=\"dataframe\">\n",
       "  <thead>\n",
       "    <tr style=\"text-align: right;\">\n",
       "      <th></th>\n",
       "      <th>sentence</th>\n",
       "    </tr>\n",
       "  </thead>\n",
       "  <tbody>\n",
       "    <tr>\n",
       "      <th>0</th>\n",
       "      <td>ඉන්දියාවට අවශ්‍ය වී ඇත්තේ පොලිස් බලතල හා ඉඩම් ...</td>\n",
       "    </tr>\n",
       "    <tr>\n",
       "      <th>1</th>\n",
       "      <td>ඔවුන්ට තමන්ගේ පෞද්ගලිකත්වය ඉස්මතු කරගන්නට එදා ...</td>\n",
       "    </tr>\n",
       "    <tr>\n",
       "      <th>2</th>\n",
       "      <td>ඔවුහු අප ඒ බවක් කී බව අමතක කරති</td>\n",
       "    </tr>\n",
       "    <tr>\n",
       "      <th>3</th>\n",
       "      <td>එය ස්පර්ශ කරන්නේ අතින් හා මනසෙනි</td>\n",
       "    </tr>\n",
       "    <tr>\n",
       "      <th>4</th>\n",
       "      <td>අ ආ ඇ ඈ ආදිය ස්වරයි</td>\n",
       "    </tr>\n",
       "  </tbody>\n",
       "</table>\n",
       "</div>"
      ],
      "text/plain": [
       "                                            sentence\n",
       "0  ඉන්දියාවට අවශ්‍ය වී ඇත්තේ පොලිස් බලතල හා ඉඩම් ...\n",
       "1  ඔවුන්ට තමන්ගේ පෞද්ගලිකත්වය ඉස්මතු කරගන්නට එදා ...\n",
       "2                    ඔවුහු අප ඒ බවක් කී බව අමතක කරති\n",
       "3                   එය ස්පර්ශ කරන්නේ අතින් හා මනසෙනි\n",
       "4                                අ ආ ඇ ඈ ආදිය ස්වරයි"
      ]
     },
     "execution_count": 50,
     "metadata": {},
     "output_type": "execute_result"
    }
   ],
   "source": [
    "corpus_10 = pd.read_csv(\"Cleaning_the_Corpus/10_removed_ksha.csv\")\n",
    "corpus_10.head()"
   ]
  },
  {
   "cell_type": "code",
   "execution_count": 51,
   "id": "97d2ef2f",
   "metadata": {},
   "outputs": [],
   "source": [
    "zero_width_joiner_fully_corrected_corpus = corpus_10\n",
    "\n",
    "for i in range(0, len(zero_width_joiner_fully_corrected_corpus[\"sentence\"])):\n",
    "    for key in new_dictionary:\n",
    "        if key in zero_width_joiner_fully_corrected_corpus[\"sentence\"][i]:\n",
    "            zero_width_joiner_fully_corrected_corpus[\"sentence\"][i] = zero_width_joiner_fully_corrected_corpus[\"sentence\"][i].replace(key, new_dictionary[key])"
   ]
  },
  {
   "cell_type": "code",
   "execution_count": 52,
   "id": "aeb6af55",
   "metadata": {},
   "outputs": [],
   "source": [
    "# zero_width_joiner_fully_corrected_corpus.to_csv(\"Cleaning_the_Corpus/11_zero_width_joiner_fully_corrected.csv\")"
   ]
  },
  {
   "cell_type": "markdown",
   "id": "89adea60",
   "metadata": {},
   "source": [
    "### Getting Unique Words - No Need"
   ]
  },
  {
   "cell_type": "code",
   "execution_count": 53,
   "id": "6120a6a3",
   "metadata": {},
   "outputs": [
    {
     "data": {
      "text/html": [
       "<div>\n",
       "<style scoped>\n",
       "    .dataframe tbody tr th:only-of-type {\n",
       "        vertical-align: middle;\n",
       "    }\n",
       "\n",
       "    .dataframe tbody tr th {\n",
       "        vertical-align: top;\n",
       "    }\n",
       "\n",
       "    .dataframe thead th {\n",
       "        text-align: right;\n",
       "    }\n",
       "</style>\n",
       "<table border=\"1\" class=\"dataframe\">\n",
       "  <thead>\n",
       "    <tr style=\"text-align: right;\">\n",
       "      <th></th>\n",
       "      <th>index</th>\n",
       "      <th>sentence</th>\n",
       "    </tr>\n",
       "  </thead>\n",
       "  <tbody>\n",
       "    <tr>\n",
       "      <th>0</th>\n",
       "      <td>0</td>\n",
       "      <td>ඉන්දියාවට අවශ්‍ය වී ඇත්තේ පොලිස් බලතල හා ඉඩම් ...</td>\n",
       "    </tr>\n",
       "    <tr>\n",
       "      <th>1</th>\n",
       "      <td>1</td>\n",
       "      <td>ඔවුන්ට තමන්ගේ පෞද්ගලිකත්වය ඉස්මතු කරගන්නට එදා ...</td>\n",
       "    </tr>\n",
       "    <tr>\n",
       "      <th>2</th>\n",
       "      <td>2</td>\n",
       "      <td>ඔවුහු අප ඒ බවක් කී බව අමතක කරති</td>\n",
       "    </tr>\n",
       "    <tr>\n",
       "      <th>3</th>\n",
       "      <td>3</td>\n",
       "      <td>එය ස්පර්ශ කරන්නේ අතින් හා මනසෙනි</td>\n",
       "    </tr>\n",
       "    <tr>\n",
       "      <th>4</th>\n",
       "      <td>4</td>\n",
       "      <td>අ ආ ඇ ඈ ආදිය ස්වරයි</td>\n",
       "    </tr>\n",
       "  </tbody>\n",
       "</table>\n",
       "</div>"
      ],
      "text/plain": [
       "   index                                           sentence\n",
       "0      0  ඉන්දියාවට අවශ්‍ය වී ඇත්තේ පොලිස් බලතල හා ඉඩම් ...\n",
       "1      1  ඔවුන්ට තමන්ගේ පෞද්ගලිකත්වය ඉස්මතු කරගන්නට එදා ...\n",
       "2      2                    ඔවුහු අප ඒ බවක් කී බව අමතක කරති\n",
       "3      3                   එය ස්පර්ශ කරන්නේ අතින් හා මනසෙනි\n",
       "4      4                                අ ආ ඇ ඈ ආදිය ස්වරයි"
      ]
     },
     "execution_count": 53,
     "metadata": {},
     "output_type": "execute_result"
    }
   ],
   "source": [
    "corpus_11 = pd.read_csv(\"Cleaning_the_Corpus/11_zero_width_joiner_fully_corrected.csv\")\n",
    "corpus_11.head()"
   ]
  },
  {
   "cell_type": "code",
   "execution_count": 54,
   "id": "354c73b1",
   "metadata": {},
   "outputs": [],
   "source": [
    "results = set()\n",
    "corpus_11[\"sentence\"].str.strip().str.split().apply(results.update)\n",
    "words = pd.DataFrame(results)\n",
    "words.rename(columns={0: 'Word'}, inplace=True)\n",
    "sorted_words = words.sort_values(\"Word\")"
   ]
  },
  {
   "cell_type": "code",
   "execution_count": 55,
   "id": "e51c30fb",
   "metadata": {},
   "outputs": [],
   "source": [
    "# sorted_words.to_csv(\"Cleaning_the_Corpus/Extra_Files/11_1_unique_words.csv\", index=False)"
   ]
  },
  {
   "cell_type": "code",
   "execution_count": 56,
   "id": "12f06faa",
   "metadata": {},
   "outputs": [],
   "source": [
    "unique_words_count = corpus_11.sentence.str.split(expand=True).stack().value_counts()\n",
    "unique_word_count = pd.DataFrame(unique_words_count)"
   ]
  },
  {
   "cell_type": "code",
   "execution_count": 57,
   "id": "3f68fe00",
   "metadata": {},
   "outputs": [],
   "source": [
    "# unique_word_count.to_csv(\"Cleaning_the_Corpus/Extra_Files/11_2_unique_words_count.csv\")"
   ]
  },
  {
   "cell_type": "markdown",
   "id": "6a6e0ee5",
   "metadata": {},
   "source": [
    "### Replacing Incorrect Words"
   ]
  },
  {
   "cell_type": "markdown",
   "id": "d26a4946",
   "metadata": {},
   "source": [
    "1. Finding incorrect words in `11_1_unique_words.csv` and creating `11_4_wrong_sentences_corrected.csv` manually\n",
    "2. Applying the corrections in `11_4_wrong_sentences_corrected.csv` to `11_zero_width_joiner_fully_corrected.csv`"
   ]
  },
  {
   "cell_type": "code",
   "execution_count": 58,
   "id": "7fa82260",
   "metadata": {},
   "outputs": [
    {
     "data": {
      "text/html": [
       "<div>\n",
       "<style scoped>\n",
       "    .dataframe tbody tr th:only-of-type {\n",
       "        vertical-align: middle;\n",
       "    }\n",
       "\n",
       "    .dataframe tbody tr th {\n",
       "        vertical-align: top;\n",
       "    }\n",
       "\n",
       "    .dataframe thead th {\n",
       "        text-align: right;\n",
       "    }\n",
       "</style>\n",
       "<table border=\"1\" class=\"dataframe\">\n",
       "  <thead>\n",
       "    <tr style=\"text-align: right;\">\n",
       "      <th></th>\n",
       "      <th>index</th>\n",
       "      <th>sentence</th>\n",
       "    </tr>\n",
       "  </thead>\n",
       "  <tbody>\n",
       "    <tr>\n",
       "      <th>0</th>\n",
       "      <td>0</td>\n",
       "      <td>ඉන්දියාවට අවශ්‍ය වී ඇත්තේ පොලිස් බලතල හා ඉඩම් ...</td>\n",
       "    </tr>\n",
       "    <tr>\n",
       "      <th>1</th>\n",
       "      <td>1</td>\n",
       "      <td>ඔවුන්ට තමන්ගේ පෞද්ගලිකත්වය ඉස්මතු කරගන්නට එදා ...</td>\n",
       "    </tr>\n",
       "    <tr>\n",
       "      <th>2</th>\n",
       "      <td>2</td>\n",
       "      <td>ඔවුහු අප ඒ බවක් කී බව අමතක කරති</td>\n",
       "    </tr>\n",
       "    <tr>\n",
       "      <th>3</th>\n",
       "      <td>3</td>\n",
       "      <td>එය ස්පර්ශ කරන්නේ අතින් හා මනසෙනි</td>\n",
       "    </tr>\n",
       "    <tr>\n",
       "      <th>4</th>\n",
       "      <td>4</td>\n",
       "      <td>අ ආ ඇ ඈ ආදිය ස්වරයි</td>\n",
       "    </tr>\n",
       "  </tbody>\n",
       "</table>\n",
       "</div>"
      ],
      "text/plain": [
       "   index                                           sentence\n",
       "0      0  ඉන්දියාවට අවශ්‍ය වී ඇත්තේ පොලිස් බලතල හා ඉඩම් ...\n",
       "1      1  ඔවුන්ට තමන්ගේ පෞද්ගලිකත්වය ඉස්මතු කරගන්නට එදා ...\n",
       "2      2                    ඔවුහු අප ඒ බවක් කී බව අමතක කරති\n",
       "3      3                   එය ස්පර්ශ කරන්නේ අතින් හා මනසෙනි\n",
       "4      4                                අ ආ ඇ ඈ ආදිය ස්වරයි"
      ]
     },
     "execution_count": 58,
     "metadata": {},
     "output_type": "execute_result"
    }
   ],
   "source": [
    "corpus_11 = pd.read_csv(\"Cleaning_the_Corpus/11_zero_width_joiner_fully_corrected.csv\")\n",
    "corpus_11.head()"
   ]
  },
  {
   "cell_type": "code",
   "execution_count": 59,
   "id": "ad117ba9",
   "metadata": {},
   "outputs": [
    {
     "data": {
      "text/html": [
       "<div>\n",
       "<style scoped>\n",
       "    .dataframe tbody tr th:only-of-type {\n",
       "        vertical-align: middle;\n",
       "    }\n",
       "\n",
       "    .dataframe tbody tr th {\n",
       "        vertical-align: top;\n",
       "    }\n",
       "\n",
       "    .dataframe thead th {\n",
       "        text-align: right;\n",
       "    }\n",
       "</style>\n",
       "<table border=\"1\" class=\"dataframe\">\n",
       "  <thead>\n",
       "    <tr style=\"text-align: right;\">\n",
       "      <th></th>\n",
       "      <th>index</th>\n",
       "      <th>corrected_sentence</th>\n",
       "    </tr>\n",
       "  </thead>\n",
       "  <tbody>\n",
       "    <tr>\n",
       "      <th>0</th>\n",
       "      <td>91420</td>\n",
       "      <td>සමානකම් තියෙනවා</td>\n",
       "    </tr>\n",
       "    <tr>\n",
       "      <th>1</th>\n",
       "      <td>116436</td>\n",
       "      <td>මෙතන ගැනත් කියන්න ඕන</td>\n",
       "    </tr>\n",
       "    <tr>\n",
       "      <th>2</th>\n",
       "      <td>131221</td>\n",
       "      <td>ලස්සන ගෙයක්</td>\n",
       "    </tr>\n",
       "    <tr>\n",
       "      <th>3</th>\n",
       "      <td>131222</td>\n",
       "      <td>මෙම පක්ෂවලට අවුරුදු හැත්තෑවට වඩා වැඩි ය</td>\n",
       "    </tr>\n",
       "    <tr>\n",
       "      <th>4</th>\n",
       "      <td>131223</td>\n",
       "      <td>මෙම පක්ෂය කතා කළත් වැඩක් නැහැ</td>\n",
       "    </tr>\n",
       "  </tbody>\n",
       "</table>\n",
       "</div>"
      ],
      "text/plain": [
       "    index                       corrected_sentence\n",
       "0   91420                          සමානකම් තියෙනවා\n",
       "1  116436                     මෙතන ගැනත් කියන්න ඕන\n",
       "2  131221                              ලස්සන ගෙයක්\n",
       "3  131222  මෙම පක්ෂවලට අවුරුදු හැත්තෑවට වඩා වැඩි ය\n",
       "4  131223            මෙම පක්ෂය කතා කළත් වැඩක් නැහැ"
      ]
     },
     "execution_count": 59,
     "metadata": {},
     "output_type": "execute_result"
    }
   ],
   "source": [
    "corrections = pd.read_csv(\"Cleaning_the_corpus/Extra_Files/11_4_wrong_sentences_corrected.csv\")\n",
    "corrections.head()"
   ]
  },
  {
   "cell_type": "code",
   "execution_count": 60,
   "id": "69ac77ba",
   "metadata": {},
   "outputs": [],
   "source": [
    "corrected_sentences = corpus_11\n",
    "for i in range(0, len(corrections[\"index\"])):\n",
    "    corrected_sentences.loc[corrected_sentences.index == corrections[\"index\"][i], 'sentence'] = corrections[\"corrected_sentence\"][i]"
   ]
  },
  {
   "cell_type": "code",
   "execution_count": 61,
   "id": "0b35f63e",
   "metadata": {},
   "outputs": [],
   "source": [
    "# corrected_sentences.to_csv(\"Cleaning_the_corpus/12_replacing_incorrect_words.csv\", index=False)"
   ]
  },
  {
   "cell_type": "markdown",
   "id": "52b9cadd",
   "metadata": {},
   "source": [
    "### Removing zero width non joiner (\\u200C) and Replacing nbsp (\\u00A0) with space"
   ]
  },
  {
   "cell_type": "code",
   "execution_count": 62,
   "id": "b33c664f",
   "metadata": {},
   "outputs": [
    {
     "data": {
      "text/html": [
       "<div>\n",
       "<style scoped>\n",
       "    .dataframe tbody tr th:only-of-type {\n",
       "        vertical-align: middle;\n",
       "    }\n",
       "\n",
       "    .dataframe tbody tr th {\n",
       "        vertical-align: top;\n",
       "    }\n",
       "\n",
       "    .dataframe thead th {\n",
       "        text-align: right;\n",
       "    }\n",
       "</style>\n",
       "<table border=\"1\" class=\"dataframe\">\n",
       "  <thead>\n",
       "    <tr style=\"text-align: right;\">\n",
       "      <th></th>\n",
       "      <th>index</th>\n",
       "      <th>sentence</th>\n",
       "    </tr>\n",
       "  </thead>\n",
       "  <tbody>\n",
       "    <tr>\n",
       "      <th>0</th>\n",
       "      <td>0</td>\n",
       "      <td>ඉන්දියාවට අවශ්‍ය වී ඇත්තේ පොලිස් බලතල හා ඉඩම් ...</td>\n",
       "    </tr>\n",
       "    <tr>\n",
       "      <th>1</th>\n",
       "      <td>1</td>\n",
       "      <td>ඔවුන්ට තමන්ගේ පෞද්ගලිකත්වය ඉස්මතු කරගන්නට එදා ...</td>\n",
       "    </tr>\n",
       "    <tr>\n",
       "      <th>2</th>\n",
       "      <td>2</td>\n",
       "      <td>ඔවුහු අප ඒ බවක් කී බව අමතක කරති</td>\n",
       "    </tr>\n",
       "    <tr>\n",
       "      <th>3</th>\n",
       "      <td>3</td>\n",
       "      <td>එය ස්පර්ශ කරන්නේ අතින් හා මනසෙනි</td>\n",
       "    </tr>\n",
       "    <tr>\n",
       "      <th>4</th>\n",
       "      <td>4</td>\n",
       "      <td>අ ආ ඇ ඈ ආදිය ස්වරයි</td>\n",
       "    </tr>\n",
       "  </tbody>\n",
       "</table>\n",
       "</div>"
      ],
      "text/plain": [
       "   index                                           sentence\n",
       "0      0  ඉන්දියාවට අවශ්‍ය වී ඇත්තේ පොලිස් බලතල හා ඉඩම් ...\n",
       "1      1  ඔවුන්ට තමන්ගේ පෞද්ගලිකත්වය ඉස්මතු කරගන්නට එදා ...\n",
       "2      2                    ඔවුහු අප ඒ බවක් කී බව අමතක කරති\n",
       "3      3                   එය ස්පර්ශ කරන්නේ අතින් හා මනසෙනි\n",
       "4      4                                අ ආ ඇ ඈ ආදිය ස්වරයි"
      ]
     },
     "execution_count": 62,
     "metadata": {},
     "output_type": "execute_result"
    }
   ],
   "source": [
    "corpus_12 = pd.read_csv(\"Cleaning_the_Corpus/12_replacing_incorrect_words.csv\")\n",
    "corpus_12.head()"
   ]
  },
  {
   "cell_type": "code",
   "execution_count": 63,
   "id": "f707aa85",
   "metadata": {},
   "outputs": [],
   "source": [
    "resultant_corpus = corpus_12\n",
    "resultant_corpus[\"sentence\"] = resultant_corpus[\"sentence\"].str.replace(\"\\u200C\", \"\")\n",
    "resultant_corpus[\"sentence\"] = resultant_corpus[\"sentence\"].str.replace(\"\\u00A0\", \" \")"
   ]
  },
  {
   "cell_type": "code",
   "execution_count": 64,
   "id": "53e0869b",
   "metadata": {},
   "outputs": [],
   "source": [
    "# resultant_corpus.to_csv(\"Cleaning_the_corpus/13_removed_nbsp_zwnj.csv\", index=False)"
   ]
  },
  {
   "cell_type": "markdown",
   "id": "891d7717",
   "metadata": {},
   "source": [
    "### Getting Unique Words - No Need"
   ]
  },
  {
   "cell_type": "code",
   "execution_count": 65,
   "id": "74a56582",
   "metadata": {},
   "outputs": [
    {
     "data": {
      "text/html": [
       "<div>\n",
       "<style scoped>\n",
       "    .dataframe tbody tr th:only-of-type {\n",
       "        vertical-align: middle;\n",
       "    }\n",
       "\n",
       "    .dataframe tbody tr th {\n",
       "        vertical-align: top;\n",
       "    }\n",
       "\n",
       "    .dataframe thead th {\n",
       "        text-align: right;\n",
       "    }\n",
       "</style>\n",
       "<table border=\"1\" class=\"dataframe\">\n",
       "  <thead>\n",
       "    <tr style=\"text-align: right;\">\n",
       "      <th></th>\n",
       "      <th>index</th>\n",
       "      <th>sentence</th>\n",
       "    </tr>\n",
       "  </thead>\n",
       "  <tbody>\n",
       "    <tr>\n",
       "      <th>0</th>\n",
       "      <td>0</td>\n",
       "      <td>ඉන්දියාවට අවශ්‍ය වී ඇත්තේ පොලිස් බලතල හා ඉඩම් ...</td>\n",
       "    </tr>\n",
       "    <tr>\n",
       "      <th>1</th>\n",
       "      <td>1</td>\n",
       "      <td>ඔවුන්ට තමන්ගේ පෞද්ගලිකත්වය ඉස්මතු කරගන්නට එදා ...</td>\n",
       "    </tr>\n",
       "    <tr>\n",
       "      <th>2</th>\n",
       "      <td>2</td>\n",
       "      <td>ඔවුහු අප ඒ බවක් කී බව අමතක කරති</td>\n",
       "    </tr>\n",
       "    <tr>\n",
       "      <th>3</th>\n",
       "      <td>3</td>\n",
       "      <td>එය ස්පර්ශ කරන්නේ අතින් හා මනසෙනි</td>\n",
       "    </tr>\n",
       "    <tr>\n",
       "      <th>4</th>\n",
       "      <td>4</td>\n",
       "      <td>අ ආ ඇ ඈ ආදිය ස්වරයි</td>\n",
       "    </tr>\n",
       "  </tbody>\n",
       "</table>\n",
       "</div>"
      ],
      "text/plain": [
       "   index                                           sentence\n",
       "0      0  ඉන්දියාවට අවශ්‍ය වී ඇත්තේ පොලිස් බලතල හා ඉඩම් ...\n",
       "1      1  ඔවුන්ට තමන්ගේ පෞද්ගලිකත්වය ඉස්මතු කරගන්නට එදා ...\n",
       "2      2                    ඔවුහු අප ඒ බවක් කී බව අමතක කරති\n",
       "3      3                   එය ස්පර්ශ කරන්නේ අතින් හා මනසෙනි\n",
       "4      4                                අ ආ ඇ ඈ ආදිය ස්වරයි"
      ]
     },
     "execution_count": 65,
     "metadata": {},
     "output_type": "execute_result"
    }
   ],
   "source": [
    "corpus_13 = pd.read_csv(\"Cleaning_the_Corpus/13_removed_nbsp_zwnj.csv\")\n",
    "corpus_13.head()"
   ]
  },
  {
   "cell_type": "code",
   "execution_count": 66,
   "id": "949d8257",
   "metadata": {},
   "outputs": [],
   "source": [
    "results = set()\n",
    "corpus_13[\"sentence\"].str.strip().str.split().apply(results.update)\n",
    "words = pd.DataFrame(results)\n",
    "words.rename(columns={0: 'Word'}, inplace=True)\n",
    "sorted_words = words.sort_values(\"Word\")"
   ]
  },
  {
   "cell_type": "code",
   "execution_count": 67,
   "id": "fa33b3c7",
   "metadata": {},
   "outputs": [],
   "source": [
    "# sorted_words.to_csv(\"Cleaning_the_Corpus/Extra_Files/13_1_unique_words.csv\", index=False)"
   ]
  },
  {
   "cell_type": "code",
   "execution_count": 68,
   "id": "634f59e5",
   "metadata": {},
   "outputs": [],
   "source": [
    "unique_words_count = corpus_13.sentence.str.split(expand=True).stack().value_counts()\n",
    "unique_word_count = pd.DataFrame(unique_words_count)"
   ]
  },
  {
   "cell_type": "code",
   "execution_count": 69,
   "id": "407102a1",
   "metadata": {},
   "outputs": [],
   "source": [
    "# unique_word_count.to_csv(\"Cleaning_the_Corpus/Extra_Files/13_2_unique_words_count.csv\")"
   ]
  },
  {
   "cell_type": "markdown",
   "id": "9595d2d5",
   "metadata": {},
   "source": [
    "### Further Cleaning"
   ]
  },
  {
   "cell_type": "code",
   "execution_count": 2,
   "id": "e8301c21",
   "metadata": {},
   "outputs": [
    {
     "data": {
      "text/html": [
       "<div>\n",
       "<style scoped>\n",
       "    .dataframe tbody tr th:only-of-type {\n",
       "        vertical-align: middle;\n",
       "    }\n",
       "\n",
       "    .dataframe tbody tr th {\n",
       "        vertical-align: top;\n",
       "    }\n",
       "\n",
       "    .dataframe thead th {\n",
       "        text-align: right;\n",
       "    }\n",
       "</style>\n",
       "<table border=\"1\" class=\"dataframe\">\n",
       "  <thead>\n",
       "    <tr style=\"text-align: right;\">\n",
       "      <th></th>\n",
       "      <th>index</th>\n",
       "      <th>sentence</th>\n",
       "    </tr>\n",
       "  </thead>\n",
       "  <tbody>\n",
       "    <tr>\n",
       "      <th>0</th>\n",
       "      <td>0</td>\n",
       "      <td>ඉන්දියාවට අවශ්‍ය වී ඇත්තේ පොලිස් බලතල හා ඉඩම් ...</td>\n",
       "    </tr>\n",
       "    <tr>\n",
       "      <th>1</th>\n",
       "      <td>1</td>\n",
       "      <td>ඔවුන්ට තමන්ගේ පෞද්ගලිකත්වය ඉස්මතු කරගන්නට එදා ...</td>\n",
       "    </tr>\n",
       "    <tr>\n",
       "      <th>2</th>\n",
       "      <td>2</td>\n",
       "      <td>ඔවුහු අප ඒ බවක් කී බව අමතක කරති</td>\n",
       "    </tr>\n",
       "    <tr>\n",
       "      <th>3</th>\n",
       "      <td>3</td>\n",
       "      <td>එය ස්පර්ශ කරන්නේ අතින් හා මනසෙනි</td>\n",
       "    </tr>\n",
       "    <tr>\n",
       "      <th>4</th>\n",
       "      <td>4</td>\n",
       "      <td>අ ආ ඇ ඈ ආදිය ස්වරයි</td>\n",
       "    </tr>\n",
       "  </tbody>\n",
       "</table>\n",
       "</div>"
      ],
      "text/plain": [
       "   index                                           sentence\n",
       "0      0  ඉන්දියාවට අවශ්‍ය වී ඇත්තේ පොලිස් බලතල හා ඉඩම් ...\n",
       "1      1  ඔවුන්ට තමන්ගේ පෞද්ගලිකත්වය ඉස්මතු කරගන්නට එදා ...\n",
       "2      2                    ඔවුහු අප ඒ බවක් කී බව අමතක කරති\n",
       "3      3                   එය ස්පර්ශ කරන්නේ අතින් හා මනසෙනි\n",
       "4      4                                අ ආ ඇ ඈ ආදිය ස්වරයි"
      ]
     },
     "execution_count": 2,
     "metadata": {},
     "output_type": "execute_result"
    }
   ],
   "source": [
    "corpus_13 = pd.read_csv(\"Cleaning_the_Corpus/13_removed_nbsp_zwnj.csv\")\n",
    "corpus_13.head()"
   ]
  },
  {
   "cell_type": "code",
   "execution_count": 3,
   "id": "911e24c6",
   "metadata": {},
   "outputs": [
    {
     "data": {
      "text/html": [
       "<div>\n",
       "<style scoped>\n",
       "    .dataframe tbody tr th:only-of-type {\n",
       "        vertical-align: middle;\n",
       "    }\n",
       "\n",
       "    .dataframe tbody tr th {\n",
       "        vertical-align: top;\n",
       "    }\n",
       "\n",
       "    .dataframe thead th {\n",
       "        text-align: right;\n",
       "    }\n",
       "</style>\n",
       "<table border=\"1\" class=\"dataframe\">\n",
       "  <thead>\n",
       "    <tr style=\"text-align: right;\">\n",
       "      <th></th>\n",
       "      <th>index</th>\n",
       "      <th>corrected_sentence</th>\n",
       "    </tr>\n",
       "  </thead>\n",
       "  <tbody>\n",
       "    <tr>\n",
       "      <th>0</th>\n",
       "      <td>129449</td>\n",
       "      <td>රනිල් වික්‍රමසිංහ මහතා කිසි විටෙකත් විධායක අගම...</td>\n",
       "    </tr>\n",
       "    <tr>\n",
       "      <th>1</th>\n",
       "      <td>130603</td>\n",
       "      <td>රාධලා සීතලා අපේ නොවෙයි</td>\n",
       "    </tr>\n",
       "    <tr>\n",
       "      <th>2</th>\n",
       "      <td>134878</td>\n",
       "      <td>විදුලි වසන්තය ද බටහිර අධ්‍යාපනය විසින් බිහිකර ...</td>\n",
       "    </tr>\n",
       "    <tr>\n",
       "      <th>3</th>\n",
       "      <td>27705</td>\n",
       "      <td>එනම් සංස්කෘතියකින් තොරව ජීවත් වන සිතන යමෙක් ඇත...</td>\n",
       "    </tr>\n",
       "    <tr>\n",
       "      <th>4</th>\n",
       "      <td>2017</td>\n",
       "      <td>අද කතෝලික නොවෙයි යුරෝපීය ක්‍රිස්තියානි නිකායනු...</td>\n",
       "    </tr>\n",
       "  </tbody>\n",
       "</table>\n",
       "</div>"
      ],
      "text/plain": [
       "    index                                 corrected_sentence\n",
       "0  129449  රනිල් වික්‍රමසිංහ මහතා කිසි විටෙකත් විධායක අගම...\n",
       "1  130603                             රාධලා සීතලා අපේ නොවෙයි\n",
       "2  134878  විදුලි වසන්තය ද බටහිර අධ්‍යාපනය විසින් බිහිකර ...\n",
       "3   27705  එනම් සංස්කෘතියකින් තොරව ජීවත් වන සිතන යමෙක් ඇත...\n",
       "4    2017  අද කතෝලික නොවෙයි යුරෝපීය ක්‍රිස්තියානි නිකායනු..."
      ]
     },
     "execution_count": 3,
     "metadata": {},
     "output_type": "execute_result"
    }
   ],
   "source": [
    "corrections = pd.read_csv(\"Cleaning_the_corpus/Extra_Files/13_4_wrong_sentences_corrected.csv\")\n",
    "corrections.head()"
   ]
  },
  {
   "cell_type": "code",
   "execution_count": 4,
   "id": "645d51b0",
   "metadata": {},
   "outputs": [],
   "source": [
    "corrected_sentences = corpus_13\n",
    "for i in range(0, len(corrections[\"index\"])):\n",
    "    corrected_sentences.loc[corrected_sentences.index == corrections[\"index\"][i], 'sentence'] = corrections[\"corrected_sentence\"][i]"
   ]
  },
  {
   "cell_type": "code",
   "execution_count": 5,
   "id": "8a498615",
   "metadata": {},
   "outputs": [],
   "source": [
    "# corrected_sentences.to_csv(\"Cleaning_the_corpus/14_further_correcting_incorrect_words.csv\", index=False)"
   ]
  },
  {
   "cell_type": "markdown",
   "id": "76e3664e",
   "metadata": {},
   "source": [
    "### Getting Unique Words"
   ]
  },
  {
   "cell_type": "code",
   "execution_count": 6,
   "id": "a8025f51",
   "metadata": {},
   "outputs": [
    {
     "data": {
      "text/html": [
       "<div>\n",
       "<style scoped>\n",
       "    .dataframe tbody tr th:only-of-type {\n",
       "        vertical-align: middle;\n",
       "    }\n",
       "\n",
       "    .dataframe tbody tr th {\n",
       "        vertical-align: top;\n",
       "    }\n",
       "\n",
       "    .dataframe thead th {\n",
       "        text-align: right;\n",
       "    }\n",
       "</style>\n",
       "<table border=\"1\" class=\"dataframe\">\n",
       "  <thead>\n",
       "    <tr style=\"text-align: right;\">\n",
       "      <th></th>\n",
       "      <th>index</th>\n",
       "      <th>sentence</th>\n",
       "    </tr>\n",
       "  </thead>\n",
       "  <tbody>\n",
       "    <tr>\n",
       "      <th>0</th>\n",
       "      <td>0</td>\n",
       "      <td>ඉන්දියාවට අවශ්‍ය වී ඇත්තේ පොලිස් බලතල හා ඉඩම් ...</td>\n",
       "    </tr>\n",
       "    <tr>\n",
       "      <th>1</th>\n",
       "      <td>1</td>\n",
       "      <td>ඔවුන්ට තමන්ගේ පෞද්ගලිකත්වය ඉස්මතු කරගන්නට එදා ...</td>\n",
       "    </tr>\n",
       "    <tr>\n",
       "      <th>2</th>\n",
       "      <td>2</td>\n",
       "      <td>ඔවුහු අප ඒ බවක් කී බව අමතක කරති</td>\n",
       "    </tr>\n",
       "    <tr>\n",
       "      <th>3</th>\n",
       "      <td>3</td>\n",
       "      <td>එය ස්පර්ශ කරන්නේ අතින් හා මනසෙනි</td>\n",
       "    </tr>\n",
       "    <tr>\n",
       "      <th>4</th>\n",
       "      <td>4</td>\n",
       "      <td>අ ආ ඇ ඈ ආදිය ස්වරයි</td>\n",
       "    </tr>\n",
       "  </tbody>\n",
       "</table>\n",
       "</div>"
      ],
      "text/plain": [
       "   index                                           sentence\n",
       "0      0  ඉන්දියාවට අවශ්‍ය වී ඇත්තේ පොලිස් බලතල හා ඉඩම් ...\n",
       "1      1  ඔවුන්ට තමන්ගේ පෞද්ගලිකත්වය ඉස්මතු කරගන්නට එදා ...\n",
       "2      2                    ඔවුහු අප ඒ බවක් කී බව අමතක කරති\n",
       "3      3                   එය ස්පර්ශ කරන්නේ අතින් හා මනසෙනි\n",
       "4      4                                අ ආ ඇ ඈ ආදිය ස්වරයි"
      ]
     },
     "execution_count": 6,
     "metadata": {},
     "output_type": "execute_result"
    }
   ],
   "source": [
    "corpus_14 = pd.read_csv(\"Cleaning_the_Corpus/14_further_correcting_incorrect_words.csv\")\n",
    "corpus_14.head()"
   ]
  },
  {
   "cell_type": "code",
   "execution_count": 7,
   "id": "45a7f278",
   "metadata": {},
   "outputs": [],
   "source": [
    "results = set()\n",
    "corpus_14[\"sentence\"].str.strip().str.split().apply(results.update)\n",
    "words = pd.DataFrame(results)\n",
    "words.rename(columns={0: 'Word'}, inplace=True)\n",
    "sorted_words = words.sort_values(\"Word\")"
   ]
  },
  {
   "cell_type": "code",
   "execution_count": 8,
   "id": "211abdee",
   "metadata": {},
   "outputs": [],
   "source": [
    "# sorted_words.to_csv(\"Cleaning_the_Corpus/Extra_Files/14_1_unique_words.csv\", index=False)"
   ]
  },
  {
   "cell_type": "code",
   "execution_count": null,
   "id": "4dee2a18",
   "metadata": {},
   "outputs": [],
   "source": []
  }
 ],
 "metadata": {
  "kernelspec": {
   "display_name": "Python 3 (ipykernel)",
   "language": "python",
   "name": "python3"
  },
  "language_info": {
   "codemirror_mode": {
    "name": "ipython",
    "version": 3
   },
   "file_extension": ".py",
   "mimetype": "text/x-python",
   "name": "python",
   "nbconvert_exporter": "python",
   "pygments_lexer": "ipython3",
   "version": "3.9.7"
  }
 },
 "nbformat": 4,
 "nbformat_minor": 5
}
