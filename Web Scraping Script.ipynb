{
 "cells": [
  {
   "cell_type": "code",
   "execution_count": 1,
   "id": "93aaead9",
   "metadata": {},
   "outputs": [],
   "source": [
    "import requests\n",
    "from bs4 import BeautifulSoup"
   ]
  },
  {
   "cell_type": "markdown",
   "id": "f3997dd1",
   "metadata": {},
   "source": [
    "## 2021 Jan to Apr Articles"
   ]
  },
  {
   "cell_type": "code",
   "execution_count": 2,
   "id": "ab05c6d2",
   "metadata": {},
   "outputs": [],
   "source": [
    "def write_article_content_to_file_2021_Jan_to_Apr(url, id):\n",
    "    page = requests.get(url, headers={\"User-Agent\": \"XY\"})\n",
    "    soup = BeautifulSoup(page.content, 'html.parser')\n",
    "    \n",
    "    title = soup.select(\"h1.entry-title\")[0].get_text()\n",
    "    date = soup.select(\"span.updated\")[0].get_text()\n",
    "    paragraph_list = soup.select(\"div.post-content p\")\n",
    "    \n",
    "    f = open(f\"2021_Jan_to_Apr_articles/file{id}.txt\", \"a\", encoding=\"utf-8\")\n",
    "    f.write(title + \" - \" + date)\n",
    "    f.write(\"\\n\")\n",
    "    f.write(\"\\n\")\n",
    "\n",
    "    for paragraph in paragraph_list:\n",
    "        sentences = paragraph.get_text().split(\".\")\n",
    "        for sentence in sentences:\n",
    "            f.write(sentence.strip())\n",
    "            f.write(\"\\n\")\n",
    "    f.close()"
   ]
  },
  {
   "cell_type": "code",
   "execution_count": 3,
   "id": "370a1446",
   "metadata": {},
   "outputs": [],
   "source": [
    "def write_2021_Jan_to_Apr_articles():\n",
    "    url = \"https://kalaya.org/?page_id=2402#2021-Jan\" # contains all articles in 2021\n",
    "    page = requests.get(url, headers={\"User-Agent\": \"XY\"})\n",
    "    soup = BeautifulSoup(page.content, 'html.parser')\n",
    "    \n",
    "    article_list = soup.select(\"ul.display-posts-listing a.title\")\n",
    "    article_link_list = []\n",
    "    for article in article_list:\n",
    "        article_link_list.append(article['href'])\n",
    "        \n",
    "    for article_link in article_link_list:\n",
    "        write_article_content_to_file_2021_Jan_to_Apr(article_link, f\"2021-{article_link_list.index(article_link)}\")"
   ]
  },
  {
   "cell_type": "code",
   "execution_count": 4,
   "id": "5f4377bb",
   "metadata": {},
   "outputs": [],
   "source": [
    "# write_2021_Jan_to_Apr_articles()"
   ]
  },
  {
   "cell_type": "markdown",
   "id": "eff4e64c",
   "metadata": {},
   "source": [
    "## 2021 May to Nov Articles"
   ]
  },
  {
   "cell_type": "code",
   "execution_count": 5,
   "id": "91ca13c2",
   "metadata": {},
   "outputs": [],
   "source": [
    "def write_article_content_to_file_2021_May_to_Nov(url, id):\n",
    "    page = requests.get(url, headers={\"User-Agent\": \"XY\"})\n",
    "    soup = BeautifulSoup(page.content, 'html.parser')\n",
    "    \n",
    "    title = soup.select(\"h1.entry-title\")[0].get_text()\n",
    "    date = soup.select(\"span.updated\")[0].get_text()\n",
    "    paragraph_list = soup.select(\"div.post-content p\")\n",
    "    \n",
    "    f = open(f\"2021_May_to_Nov_articles/file{id}.txt\", \"a\", encoding=\"utf-8\")\n",
    "    f.write(title + \" - \" + date)\n",
    "    f.write(\"\\n\")\n",
    "    f.write(\"\\n\")\n",
    "\n",
    "    for paragraph in paragraph_list:\n",
    "        sentences = paragraph.get_text().split(\".\")\n",
    "        for sentence in sentences:\n",
    "            f.write(sentence.strip())\n",
    "            f.write(\"\\n\")\n",
    "    f.close()"
   ]
  },
  {
   "cell_type": "code",
   "execution_count": 6,
   "id": "f0452efd",
   "metadata": {},
   "outputs": [],
   "source": [
    "def write_2021_May_to_Nov_articles():\n",
    "    months = range(5,12)\n",
    "    pages = range(1,8)\n",
    "    page_links = []\n",
    "\n",
    "    base_link = \"https://kalaya.org/?m=2021\"\n",
    "    for month in months:\n",
    "        if month < 10:\n",
    "            month = \"0\" + str(month)\n",
    "        else:\n",
    "            month = str(month)\n",
    "        month_link = base_link + month\n",
    "        for page in pages:\n",
    "            page_link = month_link + \"&paged=\" + str(page)\n",
    "            page = requests.get(page_link, headers={\"User-Agent\": \"XY\"})\n",
    "            if page.status_code == 200:\n",
    "                page_links.append(page_link)\n",
    "                \n",
    "    total_article_list = []\n",
    "    for page_link in page_links:\n",
    "        page = requests.get(page_link, headers={\"User-Agent\": \"XY\"})\n",
    "        soup = BeautifulSoup(page.content, 'html.parser')\n",
    "        article_list = soup.select(\"article a.read-more-button\")\n",
    "        total_article_list.extend(article_list)\n",
    "\n",
    "    total_article_link_list = []\n",
    "    for article in total_article_list:\n",
    "        total_article_link_list.append(article['href'])\n",
    "        \n",
    "    for article_link in total_article_link_list:\n",
    "        write_article_content_to_file_2021_May_to_Nov(article_link, f\"2021-{total_article_link_list.index(article_link)}\")"
   ]
  },
  {
   "cell_type": "code",
   "execution_count": 7,
   "id": "bda61f50",
   "metadata": {},
   "outputs": [],
   "source": [
    "# write_2021_May_to_Nov_articles()"
   ]
  },
  {
   "cell_type": "markdown",
   "id": "dea19c63",
   "metadata": {},
   "source": [
    "## 2015 to 2020 Articles - Old Script"
   ]
  },
  {
   "cell_type": "code",
   "execution_count": 8,
   "id": "3990e481",
   "metadata": {},
   "outputs": [],
   "source": [
    "# def write_article_content_to_file_2015_to_2020(url, year, id):\n",
    "#     page = requests.get(url, headers={\"User-Agent\": \"XY\"})\n",
    "#     soup = BeautifulSoup(page.content, 'html.parser')\n",
    "    \n",
    "#     if (soup.select(\"h3.entry-title\")):\n",
    "#         title = soup.select(\"h3.entry-title\")[0].get_text().strip()\n",
    "#     else:\n",
    "#         title = \"no title tag\"\n",
    "        \n",
    "#     if (soup.select(\"h2.date-header span\")):\n",
    "#         date = soup.select(\"h2.date-header span\")[0].get_text()\n",
    "#     else:\n",
    "#         date = \"no date tag\"\n",
    "        \n",
    "#     paragraph_list = soup.select(\"div.entry-content div\")\n",
    "\n",
    "#     f = open(f\"{year}_articles/file{id}.txt\", \"a\", encoding=\"utf-8\")\n",
    "#     f.write(title + \" - \" + date)\n",
    "#     f.write(\"\\n\")\n",
    "#     f.write(\"\\n\")\n",
    "#     for paragraph in paragraph_list:\n",
    "#         sentences = paragraph.get_text().split(\".\")\n",
    "#         for sentence in sentences:\n",
    "#             sentence = sentence.replace(\"\\n\", \" \")\n",
    "#             f.write(sentence.strip())\n",
    "#             f.write(\"\\n\")\n",
    "#     f.close()"
   ]
  },
  {
   "cell_type": "code",
   "execution_count": 9,
   "id": "c9ef4190",
   "metadata": {},
   "outputs": [],
   "source": [
    "# # getting articles with class jump-link\n",
    "# def get_article_links_from_month_link(month_link):\n",
    "#     month_page = requests.get(month_link, headers={\"User-Agent\": \"XY\"})\n",
    "#     month_soup = BeautifulSoup(month_page.content, 'html.parser')\n",
    "    \n",
    "#     article_list = month_soup.select(\"div.jump-link a\")\n",
    "#     article_link_list = []\n",
    "#     for article in article_list:\n",
    "#         article_link_list.append(article['href'])\n",
    "#     return (article_link_list)"
   ]
  },
  {
   "cell_type": "code",
   "execution_count": 10,
   "id": "090fad14",
   "metadata": {},
   "outputs": [],
   "source": [
    "# def get_separate_article_lists_from_2015_to_2020_articles():\n",
    "#     years = range(2015,2021)\n",
    "#     months = range(1,13)\n",
    "#     month_links = {}\n",
    "#     base_link = \"http://www1.kalaya.org/\"\n",
    "#     for year in years:\n",
    "#         key = str(year)\n",
    "#         month_links[key] = []\n",
    "#         year_link = base_link + str(year)\n",
    "#         for month in months:\n",
    "#             if month < 10:\n",
    "#                 month = \"0\" + str(month)\n",
    "#             else:\n",
    "#                 month = str(month)\n",
    "\n",
    "#             month_link = year_link + \"/\" + month\n",
    "#             month_links[key].append(month_link)\n",
    "            \n",
    "#     for year in month_links:\n",
    "#         globals()[f\"articles_{year}\"] = []\n",
    "#         for month_link in month_links[year]:\n",
    "#             globals()[f\"articles_{year}\"].extend(get_article_links_from_month_link(month_link))\n",
    "    \n",
    "    \n",
    "#     return (articles_2015, articles_2016, articles_2017, articles_2018, articles_2019, articles_2020)\n",
    "#     print(articles_2015)\n"
   ]
  },
  {
   "cell_type": "code",
   "execution_count": 11,
   "id": "24bd1432",
   "metadata": {},
   "outputs": [],
   "source": [
    "# def write_articles_yearly(article_link_list, year):\n",
    "#     for article_link in article_link_list:\n",
    "#         write_article_content_to_file_2015_to_2020(article_link, year, f\"{year}-{article_link_list.index(article_link)}\")"
   ]
  },
  {
   "cell_type": "code",
   "execution_count": 12,
   "id": "56214ce6",
   "metadata": {},
   "outputs": [],
   "source": [
    "# articles_2015, articles_2016, articles_2017, articles_2018, articles_2019, articles_2020 = get_separate_article_lists_from_2015_to_2020_articles()"
   ]
  },
  {
   "cell_type": "code",
   "execution_count": 13,
   "id": "49bfc34a",
   "metadata": {},
   "outputs": [],
   "source": [
    "# write_articles_yearly(articles_2015, \"2015\")"
   ]
  },
  {
   "cell_type": "code",
   "execution_count": 14,
   "id": "4779e5d2",
   "metadata": {},
   "outputs": [],
   "source": [
    "# write_articles_yearly(articles_2016, \"2016\")"
   ]
  },
  {
   "cell_type": "code",
   "execution_count": 15,
   "id": "43dd0ce4",
   "metadata": {},
   "outputs": [],
   "source": [
    "# write_articles_yearly(articles_2017, \"2017\")"
   ]
  },
  {
   "cell_type": "markdown",
   "id": "a0cf8309",
   "metadata": {},
   "source": [
    "## 2015 to 2020 Articles - New Script"
   ]
  },
  {
   "cell_type": "code",
   "execution_count": 16,
   "id": "53e39f22",
   "metadata": {},
   "outputs": [],
   "source": [
    "def write_article_content_to_file_2015_to_2020(url, year, id):\n",
    "    page = requests.get(url, headers={\"User-Agent\": \"XY\"})\n",
    "    soup = BeautifulSoup(page.content, 'html.parser')\n",
    "    \n",
    "    if (soup.select(\"h3.entry-title\")):\n",
    "        title = soup.select(\"h3.entry-title\")[0].get_text().strip()\n",
    "    else:\n",
    "        title = \"no title tag\"\n",
    "        \n",
    "    if (soup.select(\"h2.date-header span\")):\n",
    "        date = soup.select(\"h2.date-header span\")[0].get_text()\n",
    "    else:\n",
    "        date = \"no date tag\"\n",
    "        \n",
    "    paragraph_list = soup.select(\"div.entry-content div\")\n",
    "\n",
    "    f = open(f\"{year}_articles/file{id}.txt\", \"a\", encoding=\"utf-8\")\n",
    "    f.write(title + \" - \" + date)\n",
    "    f.write(\"\\n\")\n",
    "    f.write(\"\\n\")\n",
    "    for paragraph in paragraph_list:\n",
    "        sentences = paragraph.get_text().split(\".\")\n",
    "        for sentence in sentences:\n",
    "            sentence = sentence.replace(\"\\n\", \" \")\n",
    "            f.write(sentence.strip())\n",
    "            f.write(\"\\n\")\n",
    "    f.close()"
   ]
  },
  {
   "cell_type": "code",
   "execution_count": 17,
   "id": "935866c4",
   "metadata": {},
   "outputs": [],
   "source": [
    "def get_monthly_article_list(url):\n",
    "    page = requests.get(url, headers={\"User-Agent\": \"XY\"})\n",
    "    soup = BeautifulSoup(page.content, 'html.parser')\n",
    "    monthly_article_list = soup.select(\"li.expanded ul.hierarchy ul.posts li a\")\n",
    "\n",
    "    monthly_article_link_list = []\n",
    "    for article in monthly_article_list:\n",
    "        monthly_article_link_list.append(article[\"href\"])\n",
    "        \n",
    "    return (monthly_article_link_list)"
   ]
  },
  {
   "cell_type": "code",
   "execution_count": 18,
   "id": "429190b1",
   "metadata": {},
   "outputs": [],
   "source": [
    "def get_yearly_article_links(year):\n",
    "    months = range(1,13)\n",
    "    month_links = {}\n",
    "    base_link = \"http://www1.kalaya.org/\"\n",
    "    year_link = base_link + year\n",
    "    \n",
    "    yearly_article_link_list = []\n",
    "    \n",
    "    for month in months:\n",
    "        if month < 10:\n",
    "            month = \"0\" + str(month)\n",
    "        else:\n",
    "            month = str(month)\n",
    "        month_link = year_link + \"/\" + month\n",
    "        yearly_article_link_list.extend(get_monthly_article_list(month_link))\n",
    "        \n",
    "    return (yearly_article_link_list)"
   ]
  },
  {
   "cell_type": "code",
   "execution_count": 19,
   "id": "4d56b408",
   "metadata": {},
   "outputs": [],
   "source": [
    "def write_articles_yearly(year):\n",
    "    article_link_list = get_yearly_article_links(year)\n",
    "    \n",
    "    for article_link in article_link_list:\n",
    "        write_article_content_to_file_2015_to_2020(article_link, year, f\"{year}-{article_link_list.index(article_link)}\")"
   ]
  },
  {
   "cell_type": "code",
   "execution_count": 20,
   "id": "64abcb1b",
   "metadata": {},
   "outputs": [],
   "source": [
    "# write_articles_yearly(\"2020\")"
   ]
  },
  {
   "cell_type": "code",
   "execution_count": null,
   "id": "f10eef99",
   "metadata": {},
   "outputs": [],
   "source": []
  }
 ],
 "metadata": {
  "kernelspec": {
   "display_name": "Python 3 (ipykernel)",
   "language": "python",
   "name": "python3"
  },
  "language_info": {
   "codemirror_mode": {
    "name": "ipython",
    "version": 3
   },
   "file_extension": ".py",
   "mimetype": "text/x-python",
   "name": "python",
   "nbconvert_exporter": "python",
   "pygments_lexer": "ipython3",
   "version": "3.9.7"
  }
 },
 "nbformat": 4,
 "nbformat_minor": 5
}
